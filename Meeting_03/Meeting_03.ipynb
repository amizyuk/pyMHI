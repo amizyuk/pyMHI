{
 "cells": [
  {
   "cell_type": "markdown",
   "metadata": {
    "deletable": true,
    "editable": true
   },
   "source": [
    "## Задача: прочитать что-то из файла"
   ]
  },
  {
   "cell_type": "code",
   "execution_count": 1,
   "metadata": {
    "collapsed": true,
    "deletable": true,
    "editable": true
   },
   "outputs": [],
   "source": [
    "%matplotlib inline"
   ]
  },
  {
   "cell_type": "code",
   "execution_count": 2,
   "metadata": {
    "collapsed": false
   },
   "outputs": [
    {
     "name": "stdout",
     "output_type": "stream",
     "text": [
      "9000126.csv  Feodosiya_sm.grd  README.md  river_v6.mat\r\n",
      "9000126.xls  Meeting_03.ipynb  river.mat\r\n"
     ]
    }
   ],
   "source": [
    "!ls"
   ]
  },
  {
   "cell_type": "code",
   "execution_count": 3,
   "metadata": {
    "collapsed": false,
    "deletable": true,
    "editable": true
   },
   "outputs": [
    {
     "name": "stdout",
     "output_type": "stream",
     "text": [
      "Date,River discharge (m3/s)\r\n",
      "1981-01-01,20.7945003509521\r\n",
      "1981-01-02,23.4088001251221\r\n",
      "1981-01-03,22.4591007232666\r\n",
      "1981-01-04,20.2217998504639\r\n"
     ]
    }
   ],
   "source": [
    "!head -5 9000126.csv"
   ]
  },
  {
   "cell_type": "markdown",
   "metadata": {
    "deletable": true,
    "editable": true
   },
   "source": [
    "### Способ 1-й (трагический): в лоб"
   ]
  },
  {
   "cell_type": "code",
   "execution_count": 4,
   "metadata": {
    "collapsed": false
   },
   "outputs": [
    {
     "name": "stdout",
     "output_type": "stream",
     "text": [
      "Help on built-in function open in module io:\n",
      "\n",
      "open(file, mode='r', buffering=-1, encoding=None, errors=None, newline=None, closefd=True, opener=None)\n",
      "    Open file and return a stream.  Raise IOError upon failure.\n",
      "    \n",
      "    file is either a text or byte string giving the name (and the path\n",
      "    if the file isn't in the current working directory) of the file to\n",
      "    be opened or an integer file descriptor of the file to be\n",
      "    wrapped. (If a file descriptor is given, it is closed when the\n",
      "    returned I/O object is closed, unless closefd is set to False.)\n",
      "    \n",
      "    mode is an optional string that specifies the mode in which the file\n",
      "    is opened. It defaults to 'r' which means open for reading in text\n",
      "    mode.  Other common values are 'w' for writing (truncating the file if\n",
      "    it already exists), 'x' for creating and writing to a new file, and\n",
      "    'a' for appending (which on some Unix systems, means that all writes\n",
      "    append to the end of the file regardless of the current seek position).\n",
      "    In text mode, if encoding is not specified the encoding used is platform\n",
      "    dependent: locale.getpreferredencoding(False) is called to get the\n",
      "    current locale encoding. (For reading and writing raw bytes use binary\n",
      "    mode and leave encoding unspecified.) The available modes are:\n",
      "    \n",
      "    ========= ===============================================================\n",
      "    Character Meaning\n",
      "    --------- ---------------------------------------------------------------\n",
      "    'r'       open for reading (default)\n",
      "    'w'       open for writing, truncating the file first\n",
      "    'x'       create a new file and open it for writing\n",
      "    'a'       open for writing, appending to the end of the file if it exists\n",
      "    'b'       binary mode\n",
      "    't'       text mode (default)\n",
      "    '+'       open a disk file for updating (reading and writing)\n",
      "    'U'       universal newline mode (deprecated)\n",
      "    ========= ===============================================================\n",
      "    \n",
      "    The default mode is 'rt' (open for reading text). For binary random\n",
      "    access, the mode 'w+b' opens and truncates the file to 0 bytes, while\n",
      "    'r+b' opens the file without truncation. The 'x' mode implies 'w' and\n",
      "    raises an `FileExistsError` if the file already exists.\n",
      "    \n",
      "    Python distinguishes between files opened in binary and text modes,\n",
      "    even when the underlying operating system doesn't. Files opened in\n",
      "    binary mode (appending 'b' to the mode argument) return contents as\n",
      "    bytes objects without any decoding. In text mode (the default, or when\n",
      "    't' is appended to the mode argument), the contents of the file are\n",
      "    returned as strings, the bytes having been first decoded using a\n",
      "    platform-dependent encoding or using the specified encoding if given.\n",
      "    \n",
      "    'U' mode is deprecated and will raise an exception in future versions\n",
      "    of Python.  It has no effect in Python 3.  Use newline to control\n",
      "    universal newlines mode.\n",
      "    \n",
      "    buffering is an optional integer used to set the buffering policy.\n",
      "    Pass 0 to switch buffering off (only allowed in binary mode), 1 to select\n",
      "    line buffering (only usable in text mode), and an integer > 1 to indicate\n",
      "    the size of a fixed-size chunk buffer.  When no buffering argument is\n",
      "    given, the default buffering policy works as follows:\n",
      "    \n",
      "    * Binary files are buffered in fixed-size chunks; the size of the buffer\n",
      "      is chosen using a heuristic trying to determine the underlying device's\n",
      "      \"block size\" and falling back on `io.DEFAULT_BUFFER_SIZE`.\n",
      "      On many systems, the buffer will typically be 4096 or 8192 bytes long.\n",
      "    \n",
      "    * \"Interactive\" text files (files for which isatty() returns True)\n",
      "      use line buffering.  Other text files use the policy described above\n",
      "      for binary files.\n",
      "    \n",
      "    encoding is the name of the encoding used to decode or encode the\n",
      "    file. This should only be used in text mode. The default encoding is\n",
      "    platform dependent, but any encoding supported by Python can be\n",
      "    passed.  See the codecs module for the list of supported encodings.\n",
      "    \n",
      "    errors is an optional string that specifies how encoding errors are to\n",
      "    be handled---this argument should not be used in binary mode. Pass\n",
      "    'strict' to raise a ValueError exception if there is an encoding error\n",
      "    (the default of None has the same effect), or pass 'ignore' to ignore\n",
      "    errors. (Note that ignoring encoding errors can lead to data loss.)\n",
      "    See the documentation for codecs.register or run 'help(codecs.Codec)'\n",
      "    for a list of the permitted encoding error strings.\n",
      "    \n",
      "    newline controls how universal newlines works (it only applies to text\n",
      "    mode). It can be None, '', '\\n', '\\r', and '\\r\\n'.  It works as\n",
      "    follows:\n",
      "    \n",
      "    * On input, if newline is None, universal newlines mode is\n",
      "      enabled. Lines in the input can end in '\\n', '\\r', or '\\r\\n', and\n",
      "      these are translated into '\\n' before being returned to the\n",
      "      caller. If it is '', universal newline mode is enabled, but line\n",
      "      endings are returned to the caller untranslated. If it has any of\n",
      "      the other legal values, input lines are only terminated by the given\n",
      "      string, and the line ending is returned to the caller untranslated.\n",
      "    \n",
      "    * On output, if newline is None, any '\\n' characters written are\n",
      "      translated to the system default line separator, os.linesep. If\n",
      "      newline is '' or '\\n', no translation takes place. If newline is any\n",
      "      of the other legal values, any '\\n' characters written are translated\n",
      "      to the given string.\n",
      "    \n",
      "    If closefd is False, the underlying file descriptor will be kept open\n",
      "    when the file is closed. This does not work when a file name is given\n",
      "    and must be True in that case.\n",
      "    \n",
      "    A custom opener can be used by passing a callable as *opener*. The\n",
      "    underlying file descriptor for the file object is then obtained by\n",
      "    calling *opener* with (*file*, *flags*). *opener* must return an open\n",
      "    file descriptor (passing os.open as *opener* results in functionality\n",
      "    similar to passing None).\n",
      "    \n",
      "    open() returns a file object whose type depends on the mode, and\n",
      "    through which the standard file operations such as reading and writing\n",
      "    are performed. When open() is used to open a file in a text mode ('w',\n",
      "    'r', 'wt', 'rt', etc.), it returns a TextIOWrapper. When used to open\n",
      "    a file in a binary mode, the returned class varies: in read binary\n",
      "    mode, it returns a BufferedReader; in write binary and append binary\n",
      "    modes, it returns a BufferedWriter, and in read/write mode, it returns\n",
      "    a BufferedRandom.\n",
      "    \n",
      "    It is also possible to use a string or bytearray as a file for both\n",
      "    reading and writing. For strings StringIO can be used like a file\n",
      "    opened in a text mode, and for bytes a BytesIO can be used like a file\n",
      "    opened in a binary mode.\n",
      "\n"
     ]
    }
   ],
   "source": [
    "help(open)"
   ]
  },
  {
   "cell_type": "code",
   "execution_count": 5,
   "metadata": {
    "collapsed": false,
    "deletable": true,
    "editable": true
   },
   "outputs": [],
   "source": [
    "f = open('9000126.csv','r')"
   ]
  },
  {
   "cell_type": "code",
   "execution_count": 6,
   "metadata": {
    "collapsed": false,
    "deletable": true,
    "editable": true
   },
   "outputs": [
    {
     "data": {
      "text/plain": [
       "'Date,River discharge (m3/s)\\n'"
      ]
     },
     "execution_count": 6,
     "metadata": {},
     "output_type": "execute_result"
    }
   ],
   "source": [
    "f.readline()"
   ]
  },
  {
   "cell_type": "code",
   "execution_count": 7,
   "metadata": {
    "collapsed": false,
    "deletable": true,
    "editable": true
   },
   "outputs": [
    {
     "data": {
      "text/plain": [
       "'1981-01-01,20.7945003509521\\n'"
      ]
     },
     "execution_count": 7,
     "metadata": {},
     "output_type": "execute_result"
    }
   ],
   "source": [
    "f.readline()"
   ]
  },
  {
   "cell_type": "code",
   "execution_count": 8,
   "metadata": {
    "collapsed": true,
    "deletable": true,
    "editable": true
   },
   "outputs": [],
   "source": [
    "f.close()"
   ]
  },
  {
   "cell_type": "code",
   "execution_count": 9,
   "metadata": {
    "collapsed": false,
    "deletable": true,
    "editable": true
   },
   "outputs": [],
   "source": [
    "f = open('9000126.csv','r')"
   ]
  },
  {
   "cell_type": "code",
   "execution_count": 10,
   "metadata": {
    "collapsed": false,
    "deletable": true,
    "editable": true
   },
   "outputs": [],
   "source": [
    "riv,dates = [],[]\n",
    "while True:\n",
    "    line = f.readline()\n",
    "    if not line:\n",
    "        break\n",
    "    dates.append(line.split(',')[0])\n",
    "    riv.append(line.split(',')[1])"
   ]
  },
  {
   "cell_type": "code",
   "execution_count": 11,
   "metadata": {
    "collapsed": true,
    "deletable": true,
    "editable": true
   },
   "outputs": [],
   "source": [
    "f.close()"
   ]
  },
  {
   "cell_type": "code",
   "execution_count": 12,
   "metadata": {
    "collapsed": false,
    "deletable": true,
    "editable": true
   },
   "outputs": [
    {
     "data": {
      "text/plain": [
       "10958"
      ]
     },
     "execution_count": 12,
     "metadata": {},
     "output_type": "execute_result"
    }
   ],
   "source": [
    "len(dates)"
   ]
  },
  {
   "cell_type": "code",
   "execution_count": 13,
   "metadata": {
    "collapsed": false,
    "deletable": true,
    "editable": true
   },
   "outputs": [
    {
     "data": {
      "text/plain": [
       "10958"
      ]
     },
     "execution_count": 13,
     "metadata": {},
     "output_type": "execute_result"
    }
   ],
   "source": [
    "len(riv)"
   ]
  },
  {
   "cell_type": "code",
   "execution_count": 14,
   "metadata": {
    "collapsed": false,
    "deletable": true,
    "editable": true
   },
   "outputs": [
    {
     "data": {
      "text/plain": [
       "(['Date',\n",
       "  '1981-01-01',\n",
       "  '1981-01-02',\n",
       "  '1981-01-03',\n",
       "  '1981-01-04',\n",
       "  '1981-01-05',\n",
       "  '1981-01-06',\n",
       "  '1981-01-07',\n",
       "  '1981-01-08',\n",
       "  '1981-01-09',\n",
       "  '1981-01-10',\n",
       "  '1981-01-11',\n",
       "  '1981-01-12',\n",
       "  '1981-01-13',\n",
       "  '1981-01-14',\n",
       "  '1981-01-15',\n",
       "  '1981-01-16',\n",
       "  '1981-01-17',\n",
       "  '1981-01-18',\n",
       "  '1981-01-19'],\n",
       " ['River discharge (m3/s)\\n',\n",
       "  '20.7945003509521\\n',\n",
       "  '23.4088001251221\\n',\n",
       "  '22.4591007232666\\n',\n",
       "  '20.2217998504639\\n',\n",
       "  '18.0496006011963\\n',\n",
       "  '16.2210006713867\\n',\n",
       "  '14.6339998245239\\n',\n",
       "  '13.2631998062134\\n',\n",
       "  '12.1596002578735\\n',\n",
       "  '11.2073001861572\\n',\n",
       "  '10.3605003356934\\n',\n",
       "  '9.59829998016357\\n',\n",
       "  '8.90970039367676\\n',\n",
       "  '8.28629970550537\\n',\n",
       "  '7.72109985351563\\n',\n",
       "  '7.20779991149902\\n',\n",
       "  '6.84560012817383\\n',\n",
       "  '6.56110000610352\\n',\n",
       "  '6.31279993057251\\n'])"
      ]
     },
     "execution_count": 14,
     "metadata": {},
     "output_type": "execute_result"
    }
   ],
   "source": [
    "dates[:20],riv[:20]"
   ]
  },
  {
   "cell_type": "markdown",
   "metadata": {
    "deletable": true,
    "editable": true
   },
   "source": [
    "Чтобы не выполнять процедуру close каждый раз, можно сделать хитрее"
   ]
  },
  {
   "cell_type": "code",
   "execution_count": 15,
   "metadata": {
    "collapsed": true,
    "deletable": true,
    "editable": true
   },
   "outputs": [],
   "source": [
    "riv,dates = [],[]\n",
    "with open('9000126.csv','r') as f:\n",
    "    while True:\n",
    "        line = f.readline()\n",
    "        if not line:\n",
    "            break\n",
    "        dates.append(line.split(',')[0])\n",
    "        riv.append(line.split(',')[1])"
   ]
  },
  {
   "cell_type": "code",
   "execution_count": 17,
   "metadata": {
    "collapsed": false,
    "deletable": true,
    "editable": true
   },
   "outputs": [
    {
     "data": {
      "text/plain": [
       "(['Date',\n",
       "  '1981-01-01',\n",
       "  '1981-01-02',\n",
       "  '1981-01-03',\n",
       "  '1981-01-04',\n",
       "  '1981-01-05',\n",
       "  '1981-01-06',\n",
       "  '1981-01-07',\n",
       "  '1981-01-08',\n",
       "  '1981-01-09',\n",
       "  '1981-01-10',\n",
       "  '1981-01-11',\n",
       "  '1981-01-12',\n",
       "  '1981-01-13',\n",
       "  '1981-01-14',\n",
       "  '1981-01-15',\n",
       "  '1981-01-16',\n",
       "  '1981-01-17',\n",
       "  '1981-01-18',\n",
       "  '1981-01-19'],\n",
       " ['River discharge (m3/s)\\n',\n",
       "  '20.7945003509521\\n',\n",
       "  '23.4088001251221\\n',\n",
       "  '22.4591007232666\\n',\n",
       "  '20.2217998504639\\n',\n",
       "  '18.0496006011963\\n',\n",
       "  '16.2210006713867\\n',\n",
       "  '14.6339998245239\\n',\n",
       "  '13.2631998062134\\n',\n",
       "  '12.1596002578735\\n',\n",
       "  '11.2073001861572\\n',\n",
       "  '10.3605003356934\\n',\n",
       "  '9.59829998016357\\n',\n",
       "  '8.90970039367676\\n',\n",
       "  '8.28629970550537\\n',\n",
       "  '7.72109985351563\\n',\n",
       "  '7.20779991149902\\n',\n",
       "  '6.84560012817383\\n',\n",
       "  '6.56110000610352\\n',\n",
       "  '6.31279993057251\\n'])"
      ]
     },
     "execution_count": 17,
     "metadata": {},
     "output_type": "execute_result"
    }
   ],
   "source": [
    "dates[:20],riv[:20]"
   ]
  },
  {
   "cell_type": "code",
   "execution_count": 18,
   "metadata": {
    "collapsed": true,
    "deletable": true,
    "editable": true
   },
   "outputs": [],
   "source": [
    "import numpy as np"
   ]
  },
  {
   "cell_type": "code",
   "execution_count": 19,
   "metadata": {
    "collapsed": true,
    "deletable": true,
    "editable": true
   },
   "outputs": [],
   "source": [
    "rivarray = np.array(riv[1:])"
   ]
  },
  {
   "cell_type": "code",
   "execution_count": 20,
   "metadata": {
    "collapsed": false,
    "deletable": true,
    "editable": true
   },
   "outputs": [
    {
     "data": {
      "text/plain": [
       "array(['20.7945003509521\\n', '23.4088001251221\\n', '22.4591007232666\\n',\n",
       "       '20.2217998504639\\n', '18.0496006011963\\n', '16.2210006713867\\n',\n",
       "       '14.6339998245239\\n', '13.2631998062134\\n', '12.1596002578735\\n',\n",
       "       '11.2073001861572\\n', '10.3605003356934\\n', '9.59829998016357\\n',\n",
       "       '8.90970039367676\\n', '8.28629970550537\\n', '7.72109985351563\\n',\n",
       "       '7.20779991149902\\n', '6.84560012817383\\n', '6.56110000610352\\n',\n",
       "       '6.31279993057251\\n', '6.09110021591187\\n'], \n",
       "      dtype='<U18')"
      ]
     },
     "execution_count": 20,
     "metadata": {},
     "output_type": "execute_result"
    }
   ],
   "source": [
    "rivarray[:20]"
   ]
  },
  {
   "cell_type": "code",
   "execution_count": 21,
   "metadata": {
    "collapsed": true,
    "deletable": true,
    "editable": true
   },
   "outputs": [],
   "source": [
    "rivarray = np.array(riv[1:],dtype=np.float64)"
   ]
  },
  {
   "cell_type": "code",
   "execution_count": 22,
   "metadata": {
    "collapsed": true,
    "deletable": true,
    "editable": true
   },
   "outputs": [],
   "source": [
    "import matplotlib.pyplot as plt"
   ]
  },
  {
   "cell_type": "code",
   "execution_count": 24,
   "metadata": {
    "collapsed": false,
    "deletable": true,
    "editable": true
   },
   "outputs": [
    {
     "data": {
      "text/plain": [
       "[<matplotlib.lines.Line2D at 0x7ff58eb58630>]"
      ]
     },
     "execution_count": 24,
     "metadata": {},
     "output_type": "execute_result"
    },
    {
     "data": {
      "image/png": "[encoded data removed]",
      "text/plain": [
       "<matplotlib.figure.Figure at 0x7ff58eb729e8>"
      ]
     },
     "metadata": {},
     "output_type": "display_data"
    }
   ],
   "source": [
    "plt.plot(rivarray,'r')"
   ]
  },
  {
   "cell_type": "code",
   "execution_count": 25,
   "metadata": {
    "collapsed": true,
    "deletable": true,
    "editable": true
   },
   "outputs": [],
   "source": [
    "datesarray = np.array(dates[1:])"
   ]
  },
  {
   "cell_type": "code",
   "execution_count": 26,
   "metadata": {
    "collapsed": false,
    "deletable": true,
    "editable": true
   },
   "outputs": [
    {
     "data": {
      "text/plain": [
       "array(['1981-01-01', '1981-01-02', '1981-01-03', ..., '2010-12-29',\n",
       "       '2010-12-30', '2010-12-31'], \n",
       "      dtype='<U10')"
      ]
     },
     "execution_count": 26,
     "metadata": {},
     "output_type": "execute_result"
    }
   ],
   "source": [
    "datesarray"
   ]
  },
  {
   "cell_type": "code",
   "execution_count": 27,
   "metadata": {
    "collapsed": false,
    "deletable": true,
    "editable": true
   },
   "outputs": [
    {
     "ename": "AttributeError",
     "evalue": "'numpy.str_' object has no attribute 'toordinal'",
     "output_type": "error",
     "traceback": [
      "\u001b[0;31m---------------------------------------------------------------------------\u001b[0m",
      "\u001b[0;31mAttributeError\u001b[0m                            Traceback (most recent call last)",
      "\u001b[0;32m<ipython-input-27-492ad9ecfdd5>\u001b[0m in \u001b[0;36m<module>\u001b[0;34m()\u001b[0m\n\u001b[0;32m----> 1\u001b[0;31m \u001b[0mplt\u001b[0m\u001b[0;34m.\u001b[0m\u001b[0mplot_date\u001b[0m\u001b[0;34m(\u001b[0m\u001b[0mdatesarray\u001b[0m\u001b[0;34m,\u001b[0m\u001b[0mrivarray\u001b[0m\u001b[0;34m)\u001b[0m\u001b[0;34m\u001b[0m\u001b[0m\n\u001b[0m",
      "\u001b[0;32m/opt/miniconda3/envs/ocean/lib/python3.5/site-packages/matplotlib/pyplot.py\u001b[0m in \u001b[0;36mplot_date\u001b[0;34m(x, y, fmt, tz, xdate, ydate, hold, data, **kwargs)\u001b[0m\n\u001b[1;32m   3178\u001b[0m     \u001b[0;32mtry\u001b[0m\u001b[0;34m:\u001b[0m\u001b[0;34m\u001b[0m\u001b[0m\n\u001b[1;32m   3179\u001b[0m         ret = ax.plot_date(x, y, fmt=fmt, tz=tz, xdate=xdate, ydate=ydate,\n\u001b[0;32m-> 3180\u001b[0;31m                            data=data, **kwargs)\n\u001b[0m\u001b[1;32m   3181\u001b[0m     \u001b[0;32mfinally\u001b[0m\u001b[0;34m:\u001b[0m\u001b[0;34m\u001b[0m\u001b[0m\n\u001b[1;32m   3182\u001b[0m         \u001b[0max\u001b[0m\u001b[0;34m.\u001b[0m\u001b[0mhold\u001b[0m\u001b[0;34m(\u001b[0m\u001b[0mwashold\u001b[0m\u001b[0;34m)\u001b[0m\u001b[0;34m\u001b[0m\u001b[0m\n",
      "\u001b[0;32m/opt/miniconda3/envs/ocean/lib/python3.5/site-packages/matplotlib/__init__.py\u001b[0m in \u001b[0;36minner\u001b[0;34m(ax, *args, **kwargs)\u001b[0m\n\u001b[1;32m   1817\u001b[0m                     warnings.warn(msg % (label_namer, func.__name__),\n\u001b[1;32m   1818\u001b[0m                                   RuntimeWarning, stacklevel=2)\n\u001b[0;32m-> 1819\u001b[0;31m             \u001b[0;32mreturn\u001b[0m \u001b[0mfunc\u001b[0m\u001b[0;34m(\u001b[0m\u001b[0max\u001b[0m\u001b[0;34m,\u001b[0m \u001b[0;34m*\u001b[0m\u001b[0margs\u001b[0m\u001b[0;34m,\u001b[0m \u001b[0;34m**\u001b[0m\u001b[0mkwargs\u001b[0m\u001b[0;34m)\u001b[0m\u001b[0;34m\u001b[0m\u001b[0m\n\u001b[0m\u001b[1;32m   1820\u001b[0m         \u001b[0mpre_doc\u001b[0m \u001b[0;34m=\u001b[0m \u001b[0minner\u001b[0m\u001b[0;34m.\u001b[0m\u001b[0m__doc__\u001b[0m\u001b[0;34m\u001b[0m\u001b[0m\n\u001b[1;32m   1821\u001b[0m         \u001b[0;32mif\u001b[0m \u001b[0mpre_doc\u001b[0m \u001b[0;32mis\u001b[0m \u001b[0;32mNone\u001b[0m\u001b[0;34m:\u001b[0m\u001b[0;34m\u001b[0m\u001b[0m\n",
      "\u001b[0;32m/opt/miniconda3/envs/ocean/lib/python3.5/site-packages/matplotlib/axes/_axes.py\u001b[0m in \u001b[0;36mplot_date\u001b[0;34m(self, x, y, fmt, tz, xdate, ydate, **kwargs)\u001b[0m\n\u001b[1;32m   1455\u001b[0m             \u001b[0mself\u001b[0m\u001b[0;34m.\u001b[0m\u001b[0myaxis_date\u001b[0m\u001b[0;34m(\u001b[0m\u001b[0mtz\u001b[0m\u001b[0;34m)\u001b[0m\u001b[0;34m\u001b[0m\u001b[0m\n\u001b[1;32m   1456\u001b[0m \u001b[0;34m\u001b[0m\u001b[0m\n\u001b[0;32m-> 1457\u001b[0;31m         \u001b[0mret\u001b[0m \u001b[0;34m=\u001b[0m \u001b[0mself\u001b[0m\u001b[0;34m.\u001b[0m\u001b[0mplot\u001b[0m\u001b[0;34m(\u001b[0m\u001b[0mx\u001b[0m\u001b[0;34m,\u001b[0m \u001b[0my\u001b[0m\u001b[0;34m,\u001b[0m \u001b[0mfmt\u001b[0m\u001b[0;34m,\u001b[0m \u001b[0;34m**\u001b[0m\u001b[0mkwargs\u001b[0m\u001b[0;34m)\u001b[0m\u001b[0;34m\u001b[0m\u001b[0m\n\u001b[0m\u001b[1;32m   1458\u001b[0m \u001b[0;34m\u001b[0m\u001b[0m\n\u001b[1;32m   1459\u001b[0m         \u001b[0mself\u001b[0m\u001b[0;34m.\u001b[0m\u001b[0mautoscale_view\u001b[0m\u001b[0;34m(\u001b[0m\u001b[0;34m)\u001b[0m\u001b[0;34m\u001b[0m\u001b[0m\n",
      "\u001b[0;32m/opt/miniconda3/envs/ocean/lib/python3.5/site-packages/matplotlib/__init__.py\u001b[0m in \u001b[0;36minner\u001b[0;34m(ax, *args, **kwargs)\u001b[0m\n\u001b[1;32m   1817\u001b[0m                     warnings.warn(msg % (label_namer, func.__name__),\n\u001b[1;32m   1818\u001b[0m                                   RuntimeWarning, stacklevel=2)\n\u001b[0;32m-> 1819\u001b[0;31m             \u001b[0;32mreturn\u001b[0m \u001b[0mfunc\u001b[0m\u001b[0;34m(\u001b[0m\u001b[0max\u001b[0m\u001b[0;34m,\u001b[0m \u001b[0;34m*\u001b[0m\u001b[0margs\u001b[0m\u001b[0;34m,\u001b[0m \u001b[0;34m**\u001b[0m\u001b[0mkwargs\u001b[0m\u001b[0;34m)\u001b[0m\u001b[0;34m\u001b[0m\u001b[0m\n\u001b[0m\u001b[1;32m   1820\u001b[0m         \u001b[0mpre_doc\u001b[0m \u001b[0;34m=\u001b[0m \u001b[0minner\u001b[0m\u001b[0;34m.\u001b[0m\u001b[0m__doc__\u001b[0m\u001b[0;34m\u001b[0m\u001b[0m\n\u001b[1;32m   1821\u001b[0m         \u001b[0;32mif\u001b[0m \u001b[0mpre_doc\u001b[0m \u001b[0;32mis\u001b[0m \u001b[0;32mNone\u001b[0m\u001b[0;34m:\u001b[0m\u001b[0;34m\u001b[0m\u001b[0m\n",
      "\u001b[0;32m/opt/miniconda3/envs/ocean/lib/python3.5/site-packages/matplotlib/axes/_axes.py\u001b[0m in \u001b[0;36mplot\u001b[0;34m(self, *args, **kwargs)\u001b[0m\n\u001b[1;32m   1381\u001b[0m \u001b[0;34m\u001b[0m\u001b[0m\n\u001b[1;32m   1382\u001b[0m         \u001b[0;32mfor\u001b[0m \u001b[0mline\u001b[0m \u001b[0;32min\u001b[0m \u001b[0mself\u001b[0m\u001b[0;34m.\u001b[0m\u001b[0m_get_lines\u001b[0m\u001b[0;34m(\u001b[0m\u001b[0;34m*\u001b[0m\u001b[0margs\u001b[0m\u001b[0;34m,\u001b[0m \u001b[0;34m**\u001b[0m\u001b[0mkwargs\u001b[0m\u001b[0;34m)\u001b[0m\u001b[0;34m:\u001b[0m\u001b[0;34m\u001b[0m\u001b[0m\n\u001b[0;32m-> 1383\u001b[0;31m             \u001b[0mself\u001b[0m\u001b[0;34m.\u001b[0m\u001b[0madd_line\u001b[0m\u001b[0;34m(\u001b[0m\u001b[0mline\u001b[0m\u001b[0;34m)\u001b[0m\u001b[0;34m\u001b[0m\u001b[0m\n\u001b[0m\u001b[1;32m   1384\u001b[0m             \u001b[0mlines\u001b[0m\u001b[0;34m.\u001b[0m\u001b[0mappend\u001b[0m\u001b[0;34m(\u001b[0m\u001b[0mline\u001b[0m\u001b[0;34m)\u001b[0m\u001b[0;34m\u001b[0m\u001b[0m\n\u001b[1;32m   1385\u001b[0m \u001b[0;34m\u001b[0m\u001b[0m\n",
      "\u001b[0;32m/opt/miniconda3/envs/ocean/lib/python3.5/site-packages/matplotlib/axes/_base.py\u001b[0m in \u001b[0;36madd_line\u001b[0;34m(self, line)\u001b[0m\n\u001b[1;32m   1701\u001b[0m             \u001b[0mline\u001b[0m\u001b[0;34m.\u001b[0m\u001b[0mset_clip_path\u001b[0m\u001b[0;34m(\u001b[0m\u001b[0mself\u001b[0m\u001b[0;34m.\u001b[0m\u001b[0mpatch\u001b[0m\u001b[0;34m)\u001b[0m\u001b[0;34m\u001b[0m\u001b[0m\n\u001b[1;32m   1702\u001b[0m \u001b[0;34m\u001b[0m\u001b[0m\n\u001b[0;32m-> 1703\u001b[0;31m         \u001b[0mself\u001b[0m\u001b[0;34m.\u001b[0m\u001b[0m_update_line_limits\u001b[0m\u001b[0;34m(\u001b[0m\u001b[0mline\u001b[0m\u001b[0;34m)\u001b[0m\u001b[0;34m\u001b[0m\u001b[0m\n\u001b[0m\u001b[1;32m   1704\u001b[0m         \u001b[0;32mif\u001b[0m \u001b[0;32mnot\u001b[0m \u001b[0mline\u001b[0m\u001b[0;34m.\u001b[0m\u001b[0mget_label\u001b[0m\u001b[0;34m(\u001b[0m\u001b[0;34m)\u001b[0m\u001b[0;34m:\u001b[0m\u001b[0;34m\u001b[0m\u001b[0m\n\u001b[1;32m   1705\u001b[0m             \u001b[0mline\u001b[0m\u001b[0;34m.\u001b[0m\u001b[0mset_label\u001b[0m\u001b[0;34m(\u001b[0m\u001b[0;34m'_line%d'\u001b[0m \u001b[0;34m%\u001b[0m \u001b[0mlen\u001b[0m\u001b[0;34m(\u001b[0m\u001b[0mself\u001b[0m\u001b[0;34m.\u001b[0m\u001b[0mlines\u001b[0m\u001b[0;34m)\u001b[0m\u001b[0;34m)\u001b[0m\u001b[0;34m\u001b[0m\u001b[0m\n",
      "\u001b[0;32m/opt/miniconda3/envs/ocean/lib/python3.5/site-packages/matplotlib/axes/_base.py\u001b[0m in \u001b[0;36m_update_line_limits\u001b[0;34m(self, line)\u001b[0m\n\u001b[1;32m   1723\u001b[0m         \u001b[0mFigures\u001b[0m \u001b[0mout\u001b[0m \u001b[0mthe\u001b[0m \u001b[0mdata\u001b[0m \u001b[0mlimit\u001b[0m \u001b[0mof\u001b[0m \u001b[0mthe\u001b[0m \u001b[0mgiven\u001b[0m \u001b[0mline\u001b[0m\u001b[0;34m,\u001b[0m \u001b[0mupdating\u001b[0m \u001b[0mself\u001b[0m\u001b[0;34m.\u001b[0m\u001b[0mdataLim\u001b[0m\u001b[0;34m.\u001b[0m\u001b[0;34m\u001b[0m\u001b[0m\n\u001b[1;32m   1724\u001b[0m         \"\"\"\n\u001b[0;32m-> 1725\u001b[0;31m         \u001b[0mpath\u001b[0m \u001b[0;34m=\u001b[0m \u001b[0mline\u001b[0m\u001b[0;34m.\u001b[0m\u001b[0mget_path\u001b[0m\u001b[0;34m(\u001b[0m\u001b[0;34m)\u001b[0m\u001b[0;34m\u001b[0m\u001b[0m\n\u001b[0m\u001b[1;32m   1726\u001b[0m         \u001b[0;32mif\u001b[0m \u001b[0mpath\u001b[0m\u001b[0;34m.\u001b[0m\u001b[0mvertices\u001b[0m\u001b[0;34m.\u001b[0m\u001b[0msize\u001b[0m \u001b[0;34m==\u001b[0m \u001b[0;36m0\u001b[0m\u001b[0;34m:\u001b[0m\u001b[0;34m\u001b[0m\u001b[0m\n\u001b[1;32m   1727\u001b[0m             \u001b[0;32mreturn\u001b[0m\u001b[0;34m\u001b[0m\u001b[0m\n",
      "\u001b[0;32m/opt/miniconda3/envs/ocean/lib/python3.5/site-packages/matplotlib/lines.py\u001b[0m in \u001b[0;36mget_path\u001b[0;34m(self)\u001b[0m\n\u001b[1;32m    936\u001b[0m         \"\"\"\n\u001b[1;32m    937\u001b[0m         \u001b[0;32mif\u001b[0m \u001b[0mself\u001b[0m\u001b[0;34m.\u001b[0m\u001b[0m_invalidy\u001b[0m \u001b[0;32mor\u001b[0m \u001b[0mself\u001b[0m\u001b[0;34m.\u001b[0m\u001b[0m_invalidx\u001b[0m\u001b[0;34m:\u001b[0m\u001b[0;34m\u001b[0m\u001b[0m\n\u001b[0;32m--> 938\u001b[0;31m             \u001b[0mself\u001b[0m\u001b[0;34m.\u001b[0m\u001b[0mrecache\u001b[0m\u001b[0;34m(\u001b[0m\u001b[0;34m)\u001b[0m\u001b[0;34m\u001b[0m\u001b[0m\n\u001b[0m\u001b[1;32m    939\u001b[0m         \u001b[0;32mreturn\u001b[0m \u001b[0mself\u001b[0m\u001b[0;34m.\u001b[0m\u001b[0m_path\u001b[0m\u001b[0;34m\u001b[0m\u001b[0m\n\u001b[1;32m    940\u001b[0m \u001b[0;34m\u001b[0m\u001b[0m\n",
      "\u001b[0;32m/opt/miniconda3/envs/ocean/lib/python3.5/site-packages/matplotlib/lines.py\u001b[0m in \u001b[0;36mrecache\u001b[0;34m(self, always)\u001b[0m\n\u001b[1;32m    619\u001b[0m     \u001b[0;32mdef\u001b[0m \u001b[0mrecache\u001b[0m\u001b[0;34m(\u001b[0m\u001b[0mself\u001b[0m\u001b[0;34m,\u001b[0m \u001b[0malways\u001b[0m\u001b[0;34m=\u001b[0m\u001b[0;32mFalse\u001b[0m\u001b[0;34m)\u001b[0m\u001b[0;34m:\u001b[0m\u001b[0;34m\u001b[0m\u001b[0m\n\u001b[1;32m    620\u001b[0m         \u001b[0;32mif\u001b[0m \u001b[0malways\u001b[0m \u001b[0;32mor\u001b[0m \u001b[0mself\u001b[0m\u001b[0;34m.\u001b[0m\u001b[0m_invalidx\u001b[0m\u001b[0;34m:\u001b[0m\u001b[0;34m\u001b[0m\u001b[0m\n\u001b[0;32m--> 621\u001b[0;31m             \u001b[0mxconv\u001b[0m \u001b[0;34m=\u001b[0m \u001b[0mself\u001b[0m\u001b[0;34m.\u001b[0m\u001b[0mconvert_xunits\u001b[0m\u001b[0;34m(\u001b[0m\u001b[0mself\u001b[0m\u001b[0;34m.\u001b[0m\u001b[0m_xorig\u001b[0m\u001b[0;34m)\u001b[0m\u001b[0;34m\u001b[0m\u001b[0m\n\u001b[0m\u001b[1;32m    622\u001b[0m             \u001b[0;32mif\u001b[0m \u001b[0mma\u001b[0m\u001b[0;34m.\u001b[0m\u001b[0misMaskedArray\u001b[0m\u001b[0;34m(\u001b[0m\u001b[0mself\u001b[0m\u001b[0;34m.\u001b[0m\u001b[0m_xorig\u001b[0m\u001b[0;34m)\u001b[0m\u001b[0;34m:\u001b[0m\u001b[0;34m\u001b[0m\u001b[0m\n\u001b[1;32m    623\u001b[0m                 \u001b[0mx\u001b[0m \u001b[0;34m=\u001b[0m \u001b[0mma\u001b[0m\u001b[0;34m.\u001b[0m\u001b[0masarray\u001b[0m\u001b[0;34m(\u001b[0m\u001b[0mxconv\u001b[0m\u001b[0;34m,\u001b[0m \u001b[0mnp\u001b[0m\u001b[0;34m.\u001b[0m\u001b[0mfloat_\u001b[0m\u001b[0;34m)\u001b[0m\u001b[0;34m.\u001b[0m\u001b[0mfilled\u001b[0m\u001b[0;34m(\u001b[0m\u001b[0mnp\u001b[0m\u001b[0;34m.\u001b[0m\u001b[0mnan\u001b[0m\u001b[0;34m)\u001b[0m\u001b[0;34m\u001b[0m\u001b[0m\n",
      "\u001b[0;32m/opt/miniconda3/envs/ocean/lib/python3.5/site-packages/matplotlib/artist.py\u001b[0m in \u001b[0;36mconvert_xunits\u001b[0;34m(self, x)\u001b[0m\n\u001b[1;32m    188\u001b[0m         \u001b[0;32mif\u001b[0m \u001b[0max\u001b[0m \u001b[0;32mis\u001b[0m \u001b[0;32mNone\u001b[0m \u001b[0;32mor\u001b[0m \u001b[0max\u001b[0m\u001b[0;34m.\u001b[0m\u001b[0mxaxis\u001b[0m \u001b[0;32mis\u001b[0m \u001b[0;32mNone\u001b[0m\u001b[0;34m:\u001b[0m\u001b[0;34m\u001b[0m\u001b[0m\n\u001b[1;32m    189\u001b[0m             \u001b[0;32mreturn\u001b[0m \u001b[0mx\u001b[0m\u001b[0;34m\u001b[0m\u001b[0m\n\u001b[0;32m--> 190\u001b[0;31m         \u001b[0;32mreturn\u001b[0m \u001b[0max\u001b[0m\u001b[0;34m.\u001b[0m\u001b[0mxaxis\u001b[0m\u001b[0;34m.\u001b[0m\u001b[0mconvert_units\u001b[0m\u001b[0;34m(\u001b[0m\u001b[0mx\u001b[0m\u001b[0;34m)\u001b[0m\u001b[0;34m\u001b[0m\u001b[0m\n\u001b[0m\u001b[1;32m    191\u001b[0m \u001b[0;34m\u001b[0m\u001b[0m\n\u001b[1;32m    192\u001b[0m     \u001b[0;32mdef\u001b[0m \u001b[0mconvert_yunits\u001b[0m\u001b[0;34m(\u001b[0m\u001b[0mself\u001b[0m\u001b[0;34m,\u001b[0m \u001b[0my\u001b[0m\u001b[0;34m)\u001b[0m\u001b[0;34m:\u001b[0m\u001b[0;34m\u001b[0m\u001b[0m\n",
      "\u001b[0;32m/opt/miniconda3/envs/ocean/lib/python3.5/site-packages/matplotlib/axis.py\u001b[0m in \u001b[0;36mconvert_units\u001b[0;34m(self, x)\u001b[0m\n\u001b[1;32m   1442\u001b[0m             \u001b[0;32mreturn\u001b[0m \u001b[0mx\u001b[0m\u001b[0;34m\u001b[0m\u001b[0m\n\u001b[1;32m   1443\u001b[0m \u001b[0;34m\u001b[0m\u001b[0m\n\u001b[0;32m-> 1444\u001b[0;31m         \u001b[0mret\u001b[0m \u001b[0;34m=\u001b[0m \u001b[0mself\u001b[0m\u001b[0;34m.\u001b[0m\u001b[0mconverter\u001b[0m\u001b[0;34m.\u001b[0m\u001b[0mconvert\u001b[0m\u001b[0;34m(\u001b[0m\u001b[0mx\u001b[0m\u001b[0;34m,\u001b[0m \u001b[0mself\u001b[0m\u001b[0;34m.\u001b[0m\u001b[0munits\u001b[0m\u001b[0;34m,\u001b[0m \u001b[0mself\u001b[0m\u001b[0;34m)\u001b[0m\u001b[0;34m\u001b[0m\u001b[0m\n\u001b[0m\u001b[1;32m   1445\u001b[0m         \u001b[0;32mreturn\u001b[0m \u001b[0mret\u001b[0m\u001b[0;34m\u001b[0m\u001b[0m\n\u001b[1;32m   1446\u001b[0m \u001b[0;34m\u001b[0m\u001b[0m\n",
      "\u001b[0;32m/opt/miniconda3/envs/ocean/lib/python3.5/site-packages/matplotlib/dates.py\u001b[0m in \u001b[0;36mconvert\u001b[0;34m(value, unit, axis)\u001b[0m\n\u001b[1;32m   1552\u001b[0m         \u001b[0;32mif\u001b[0m \u001b[0munits\u001b[0m\u001b[0;34m.\u001b[0m\u001b[0mConversionInterface\u001b[0m\u001b[0;34m.\u001b[0m\u001b[0mis_numlike\u001b[0m\u001b[0;34m(\u001b[0m\u001b[0mvalue\u001b[0m\u001b[0;34m)\u001b[0m\u001b[0;34m:\u001b[0m\u001b[0;34m\u001b[0m\u001b[0m\n\u001b[1;32m   1553\u001b[0m             \u001b[0;32mreturn\u001b[0m \u001b[0mvalue\u001b[0m\u001b[0;34m\u001b[0m\u001b[0m\n\u001b[0;32m-> 1554\u001b[0;31m         \u001b[0;32mreturn\u001b[0m \u001b[0mdate2num\u001b[0m\u001b[0;34m(\u001b[0m\u001b[0mvalue\u001b[0m\u001b[0;34m)\u001b[0m\u001b[0;34m\u001b[0m\u001b[0m\n\u001b[0m\u001b[1;32m   1555\u001b[0m \u001b[0;34m\u001b[0m\u001b[0m\n\u001b[1;32m   1556\u001b[0m     \u001b[0;34m@\u001b[0m\u001b[0mstaticmethod\u001b[0m\u001b[0;34m\u001b[0m\u001b[0m\n",
      "\u001b[0;32m/opt/miniconda3/envs/ocean/lib/python3.5/site-packages/matplotlib/dates.py\u001b[0m in \u001b[0;36mdate2num\u001b[0;34m(d)\u001b[0m\n\u001b[1;32m    378\u001b[0m         \u001b[0;32mif\u001b[0m \u001b[0;32mnot\u001b[0m \u001b[0md\u001b[0m\u001b[0;34m.\u001b[0m\u001b[0msize\u001b[0m\u001b[0;34m:\u001b[0m\u001b[0;34m\u001b[0m\u001b[0m\n\u001b[1;32m    379\u001b[0m             \u001b[0;32mreturn\u001b[0m \u001b[0md\u001b[0m\u001b[0;34m\u001b[0m\u001b[0m\n\u001b[0;32m--> 380\u001b[0;31m         \u001b[0;32mreturn\u001b[0m \u001b[0m_to_ordinalf_np_vectorized\u001b[0m\u001b[0;34m(\u001b[0m\u001b[0md\u001b[0m\u001b[0;34m)\u001b[0m\u001b[0;34m\u001b[0m\u001b[0m\n\u001b[0m\u001b[1;32m    381\u001b[0m \u001b[0;34m\u001b[0m\u001b[0m\n\u001b[1;32m    382\u001b[0m \u001b[0;34m\u001b[0m\u001b[0m\n",
      "\u001b[0;32m/opt/miniconda3/envs/ocean/lib/python3.5/site-packages/numpy/lib/function_base.py\u001b[0m in \u001b[0;36m__call__\u001b[0;34m(self, *args, **kwargs)\u001b[0m\n\u001b[1;32m   2574\u001b[0m             \u001b[0mvargs\u001b[0m\u001b[0;34m.\u001b[0m\u001b[0mextend\u001b[0m\u001b[0;34m(\u001b[0m\u001b[0;34m[\u001b[0m\u001b[0mkwargs\u001b[0m\u001b[0;34m[\u001b[0m\u001b[0m_n\u001b[0m\u001b[0;34m]\u001b[0m \u001b[0;32mfor\u001b[0m \u001b[0m_n\u001b[0m \u001b[0;32min\u001b[0m \u001b[0mnames\u001b[0m\u001b[0;34m]\u001b[0m\u001b[0;34m)\u001b[0m\u001b[0;34m\u001b[0m\u001b[0m\n\u001b[1;32m   2575\u001b[0m \u001b[0;34m\u001b[0m\u001b[0m\n\u001b[0;32m-> 2576\u001b[0;31m         \u001b[0;32mreturn\u001b[0m \u001b[0mself\u001b[0m\u001b[0;34m.\u001b[0m\u001b[0m_vectorize_call\u001b[0m\u001b[0;34m(\u001b[0m\u001b[0mfunc\u001b[0m\u001b[0;34m=\u001b[0m\u001b[0mfunc\u001b[0m\u001b[0;34m,\u001b[0m \u001b[0margs\u001b[0m\u001b[0;34m=\u001b[0m\u001b[0mvargs\u001b[0m\u001b[0;34m)\u001b[0m\u001b[0;34m\u001b[0m\u001b[0m\n\u001b[0m\u001b[1;32m   2577\u001b[0m \u001b[0;34m\u001b[0m\u001b[0m\n\u001b[1;32m   2578\u001b[0m     \u001b[0;32mdef\u001b[0m \u001b[0m_get_ufunc_and_otypes\u001b[0m\u001b[0;34m(\u001b[0m\u001b[0mself\u001b[0m\u001b[0;34m,\u001b[0m \u001b[0mfunc\u001b[0m\u001b[0;34m,\u001b[0m \u001b[0margs\u001b[0m\u001b[0;34m)\u001b[0m\u001b[0;34m:\u001b[0m\u001b[0;34m\u001b[0m\u001b[0m\n",
      "\u001b[0;32m/opt/miniconda3/envs/ocean/lib/python3.5/site-packages/numpy/lib/function_base.py\u001b[0m in \u001b[0;36m_vectorize_call\u001b[0;34m(self, func, args)\u001b[0m\n\u001b[1;32m   2644\u001b[0m             \u001b[0mres\u001b[0m \u001b[0;34m=\u001b[0m \u001b[0mfunc\u001b[0m\u001b[0;34m(\u001b[0m\u001b[0;34m)\u001b[0m\u001b[0;34m\u001b[0m\u001b[0m\n\u001b[1;32m   2645\u001b[0m         \u001b[0;32melse\u001b[0m\u001b[0;34m:\u001b[0m\u001b[0;34m\u001b[0m\u001b[0m\n\u001b[0;32m-> 2646\u001b[0;31m             \u001b[0mufunc\u001b[0m\u001b[0;34m,\u001b[0m \u001b[0motypes\u001b[0m \u001b[0;34m=\u001b[0m \u001b[0mself\u001b[0m\u001b[0;34m.\u001b[0m\u001b[0m_get_ufunc_and_otypes\u001b[0m\u001b[0;34m(\u001b[0m\u001b[0mfunc\u001b[0m\u001b[0;34m=\u001b[0m\u001b[0mfunc\u001b[0m\u001b[0;34m,\u001b[0m \u001b[0margs\u001b[0m\u001b[0;34m=\u001b[0m\u001b[0margs\u001b[0m\u001b[0;34m)\u001b[0m\u001b[0;34m\u001b[0m\u001b[0m\n\u001b[0m\u001b[1;32m   2647\u001b[0m \u001b[0;34m\u001b[0m\u001b[0m\n\u001b[1;32m   2648\u001b[0m             \u001b[0;31m# Convert args to object arrays first\u001b[0m\u001b[0;34m\u001b[0m\u001b[0;34m\u001b[0m\u001b[0m\n",
      "\u001b[0;32m/opt/miniconda3/envs/ocean/lib/python3.5/site-packages/numpy/lib/function_base.py\u001b[0m in \u001b[0;36m_get_ufunc_and_otypes\u001b[0;34m(self, func, args)\u001b[0m\n\u001b[1;32m   2604\u001b[0m \u001b[0;34m\u001b[0m\u001b[0m\n\u001b[1;32m   2605\u001b[0m             \u001b[0minputs\u001b[0m \u001b[0;34m=\u001b[0m \u001b[0;34m[\u001b[0m\u001b[0marg\u001b[0m\u001b[0;34m.\u001b[0m\u001b[0mflat\u001b[0m\u001b[0;34m[\u001b[0m\u001b[0;36m0\u001b[0m\u001b[0;34m]\u001b[0m \u001b[0;32mfor\u001b[0m \u001b[0marg\u001b[0m \u001b[0;32min\u001b[0m \u001b[0margs\u001b[0m\u001b[0;34m]\u001b[0m\u001b[0;34m\u001b[0m\u001b[0m\n\u001b[0;32m-> 2606\u001b[0;31m             \u001b[0moutputs\u001b[0m \u001b[0;34m=\u001b[0m \u001b[0mfunc\u001b[0m\u001b[0;34m(\u001b[0m\u001b[0;34m*\u001b[0m\u001b[0minputs\u001b[0m\u001b[0;34m)\u001b[0m\u001b[0;34m\u001b[0m\u001b[0m\n\u001b[0m\u001b[1;32m   2607\u001b[0m \u001b[0;34m\u001b[0m\u001b[0m\n\u001b[1;32m   2608\u001b[0m             \u001b[0;31m# Performance note: profiling indicates that -- for simple\u001b[0m\u001b[0;34m\u001b[0m\u001b[0;34m\u001b[0m\u001b[0m\n",
      "\u001b[0;32m/opt/miniconda3/envs/ocean/lib/python3.5/site-packages/matplotlib/dates.py\u001b[0m in \u001b[0;36m_to_ordinalf\u001b[0;34m(dt)\u001b[0m\n\u001b[1;32m    219\u001b[0m             \u001b[0mdt\u001b[0m \u001b[0;34m-=\u001b[0m \u001b[0mdelta\u001b[0m\u001b[0;34m\u001b[0m\u001b[0m\n\u001b[1;32m    220\u001b[0m \u001b[0;34m\u001b[0m\u001b[0m\n\u001b[0;32m--> 221\u001b[0;31m     \u001b[0mbase\u001b[0m \u001b[0;34m=\u001b[0m \u001b[0mfloat\u001b[0m\u001b[0;34m(\u001b[0m\u001b[0mdt\u001b[0m\u001b[0;34m.\u001b[0m\u001b[0mtoordinal\u001b[0m\u001b[0;34m(\u001b[0m\u001b[0;34m)\u001b[0m\u001b[0;34m)\u001b[0m\u001b[0;34m\u001b[0m\u001b[0m\n\u001b[0m\u001b[1;32m    222\u001b[0m     \u001b[0;32mif\u001b[0m \u001b[0misinstance\u001b[0m\u001b[0;34m(\u001b[0m\u001b[0mdt\u001b[0m\u001b[0;34m,\u001b[0m \u001b[0mdatetime\u001b[0m\u001b[0;34m.\u001b[0m\u001b[0mdatetime\u001b[0m\u001b[0;34m)\u001b[0m\u001b[0;34m:\u001b[0m\u001b[0;34m\u001b[0m\u001b[0m\n\u001b[1;32m    223\u001b[0m         \u001b[0;31m# Get a datetime object at midnight in the same time zone as dt.\u001b[0m\u001b[0;34m\u001b[0m\u001b[0;34m\u001b[0m\u001b[0m\n",
      "\u001b[0;31mAttributeError\u001b[0m: 'numpy.str_' object has no attribute 'toordinal'"
     ]
    },
    {
     "data": {
      "image/png": "[encoded data removed]",
      "text/plain": [
       "<matplotlib.figure.Figure at 0x7ff5916cc160>"
      ]
     },
     "metadata": {},
     "output_type": "display_data"
    }
   ],
   "source": [
    "plt.plot_date(datesarray,rivarray)"
   ]
  },
  {
   "cell_type": "code",
   "execution_count": 28,
   "metadata": {
    "collapsed": true,
    "deletable": true,
    "editable": true
   },
   "outputs": [],
   "source": [
    "datesarray = np.array(dates[1:],dtype=np.datetime64)"
   ]
  },
  {
   "cell_type": "code",
   "execution_count": 29,
   "metadata": {
    "collapsed": false,
    "deletable": true,
    "editable": true
   },
   "outputs": [
    {
     "data": {
      "text/plain": [
       "array(['1981-01-01', '1981-01-02', '1981-01-03', ..., '2010-12-29',\n",
       "       '2010-12-30', '2010-12-31'], dtype='datetime64[D]')"
      ]
     },
     "execution_count": 29,
     "metadata": {},
     "output_type": "execute_result"
    }
   ],
   "source": [
    "datesarray"
   ]
  },
  {
   "cell_type": "code",
   "execution_count": 30,
   "metadata": {
    "collapsed": false,
    "deletable": true,
    "editable": true
   },
   "outputs": [
    {
     "data": {
      "text/plain": [
       "[<matplotlib.lines.Line2D at 0x7ff58e749710>]"
      ]
     },
     "execution_count": 30,
     "metadata": {},
     "output_type": "execute_result"
    },
    {
     "data": {
      "image/png": "[encoded data removed]",
      "text/plain": [
       "<matplotlib.figure.Figure at 0x7ff58e783f28>"
      ]
     },
     "metadata": {},
     "output_type": "display_data"
    }
   ],
   "source": [
    "plt.plot_date(datesarray,rivarray)"
   ]
  },
  {
   "cell_type": "code",
   "execution_count": 31,
   "metadata": {
    "collapsed": false,
    "deletable": true,
    "editable": true
   },
   "outputs": [
    {
     "name": "stdout",
     "output_type": "stream",
     "text": [
      "Help on function plot_date in module matplotlib.pyplot:\n",
      "\n",
      "plot_date(x, y, fmt='o', tz=None, xdate=True, ydate=False, hold=None, data=None, **kwargs)\n",
      "    Plot with data with dates.\n",
      "    \n",
      "    Call signature::\n",
      "    \n",
      "       plot_date(x, y, fmt='bo', tz=None, xdate=True,\n",
      "                 ydate=False, **kwargs)\n",
      "    \n",
      "    Similar to the :func:`~matplotlib.pyplot.plot` command, except\n",
      "    the *x* or *y* (or both) data is considered to be dates, and the\n",
      "    axis is labeled accordingly.\n",
      "    \n",
      "    *x* and/or *y* can be a sequence of dates represented as float\n",
      "    days since 0001-01-01 UTC.\n",
      "    \n",
      "    Keyword arguments:\n",
      "    \n",
      "      *fmt*: string\n",
      "        The plot format string.\n",
      "    \n",
      "      *tz*: [ *None* | timezone string | :class:`tzinfo` instance]\n",
      "        The time zone to use in labeling dates. If *None*, defaults to rc\n",
      "        value.\n",
      "    \n",
      "      *xdate*: [ *True* | *False* ]\n",
      "        If *True*, the *x*-axis will be labeled with dates.\n",
      "    \n",
      "      *ydate*: [ *False* | *True* ]\n",
      "        If *True*, the *y*-axis will be labeled with dates.\n",
      "    \n",
      "    Note if you are using custom date tickers and formatters, it\n",
      "    may be necessary to set the formatters/locators after the call\n",
      "    to :meth:`plot_date` since :meth:`plot_date` will set the\n",
      "    default tick locator to\n",
      "    :class:`matplotlib.dates.AutoDateLocator` (if the tick\n",
      "    locator is not already set to a\n",
      "    :class:`matplotlib.dates.DateLocator` instance) and the\n",
      "    default tick formatter to\n",
      "    :class:`matplotlib.dates.AutoDateFormatter` (if the tick\n",
      "    formatter is not already set to a\n",
      "    :class:`matplotlib.dates.DateFormatter` instance).\n",
      "    \n",
      "    Valid kwargs are :class:`~matplotlib.lines.Line2D` properties:\n",
      "    \n",
      "      agg_filter: unknown\n",
      "      alpha: float (0.0 transparent through 1.0 opaque) \n",
      "      animated: [True | False] \n",
      "      antialiased or aa: [True | False] \n",
      "      axes: an :class:`~matplotlib.axes.Axes` instance \n",
      "      clip_box: a :class:`matplotlib.transforms.Bbox` instance \n",
      "      clip_on: [True | False] \n",
      "      clip_path: [ (:class:`~matplotlib.path.Path`, :class:`~matplotlib.transforms.Transform`) | :class:`~matplotlib.patches.Patch` | None ] \n",
      "      color or c: any matplotlib color \n",
      "      contains: a callable function \n",
      "      dash_capstyle: ['butt' | 'round' | 'projecting'] \n",
      "      dash_joinstyle: ['miter' | 'round' | 'bevel'] \n",
      "      dashes: sequence of on/off ink in points \n",
      "      drawstyle: ['default' | 'steps' | 'steps-pre' | 'steps-mid' | 'steps-post'] \n",
      "      figure: a :class:`matplotlib.figure.Figure` instance \n",
      "      fillstyle: ['full' | 'left' | 'right' | 'bottom' | 'top' | 'none'] \n",
      "      gid: an id string \n",
      "      label: string or anything printable with '%s' conversion. \n",
      "      linestyle or ls: ['solid' | 'dashed', 'dashdot', 'dotted' | (offset, on-off-dash-seq) | ``'-'`` | ``'--'`` | ``'-.'`` | ``':'`` | ``'None'`` | ``' '`` | ``''``]\n",
      "      linewidth or lw: float value in points \n",
      "      marker: :mod:`A valid marker style <matplotlib.markers>`\n",
      "      markeredgecolor or mec: any matplotlib color \n",
      "      markeredgewidth or mew: float value in points \n",
      "      markerfacecolor or mfc: any matplotlib color \n",
      "      markerfacecoloralt or mfcalt: any matplotlib color \n",
      "      markersize or ms: float \n",
      "      markevery: [None | int | length-2 tuple of int | slice | list/array of int | float | length-2 tuple of float]\n",
      "      path_effects: unknown\n",
      "      picker: float distance in points or callable pick function ``fn(artist, event)`` \n",
      "      pickradius: float distance in points \n",
      "      rasterized: [True | False | None] \n",
      "      sketch_params: unknown\n",
      "      snap: unknown\n",
      "      solid_capstyle: ['butt' | 'round' |  'projecting'] \n",
      "      solid_joinstyle: ['miter' | 'round' | 'bevel'] \n",
      "      transform: a :class:`matplotlib.transforms.Transform` instance \n",
      "      url: a url string \n",
      "      visible: [True | False] \n",
      "      xdata: 1D array \n",
      "      ydata: 1D array \n",
      "      zorder: any number \n",
      "    \n",
      "    .. seealso::\n",
      "    \n",
      "       :mod:`~matplotlib.dates` for helper functions\n",
      "    \n",
      "       :func:`~matplotlib.dates.date2num`,\n",
      "       :func:`~matplotlib.dates.num2date` and\n",
      "       :func:`~matplotlib.dates.drange` for help on creating the required\n",
      "       floating point dates.\n",
      "    \n",
      "    Notes\n",
      "    -----\n",
      "    \n",
      "    In addition to the above described arguments, this function can take a\n",
      "    **data** keyword argument. If such a **data** argument is given, the\n",
      "    following arguments are replaced by **data[<arg>]**:\n",
      "    \n",
      "    * All arguments with the following names: 'y', 'x'.\n",
      "    \n",
      "    \n",
      "    \n",
      "    \n",
      "    Additional kwargs: hold = [True|False] overrides default hold state\n",
      "\n"
     ]
    }
   ],
   "source": [
    "help(plt.plot_date)"
   ]
  },
  {
   "cell_type": "code",
   "execution_count": 32,
   "metadata": {
    "collapsed": true,
    "deletable": true,
    "editable": true
   },
   "outputs": [],
   "source": [
    "from datetime import datetime"
   ]
  },
  {
   "cell_type": "code",
   "execution_count": 33,
   "metadata": {
    "collapsed": false,
    "deletable": true,
    "editable": true,
    "scrolled": true
   },
   "outputs": [
    {
     "data": {
      "text/plain": [
       "array([datetime.date(1981, 1, 1), datetime.date(1981, 1, 2),\n",
       "       datetime.date(1981, 1, 3), datetime.date(1981, 1, 4),\n",
       "       datetime.date(1981, 1, 5), datetime.date(1981, 1, 6),\n",
       "       datetime.date(1981, 1, 7), datetime.date(1981, 1, 8),\n",
       "       datetime.date(1981, 1, 9), datetime.date(1981, 1, 10),\n",
       "       datetime.date(1981, 1, 11), datetime.date(1981, 1, 12),\n",
       "       datetime.date(1981, 1, 13), datetime.date(1981, 1, 14),\n",
       "       datetime.date(1981, 1, 15), datetime.date(1981, 1, 16),\n",
       "       datetime.date(1981, 1, 17), datetime.date(1981, 1, 18),\n",
       "       datetime.date(1981, 1, 19), datetime.date(1981, 1, 20)], dtype=object)"
      ]
     },
     "execution_count": 33,
     "metadata": {},
     "output_type": "execute_result"
    }
   ],
   "source": [
    "datesarray[:20].astype(datetime)"
   ]
  },
  {
   "cell_type": "code",
   "execution_count": 34,
   "metadata": {
    "collapsed": true,
    "deletable": true,
    "editable": true
   },
   "outputs": [],
   "source": [
    "datesarray = datesarray.astype(datetime)"
   ]
  },
  {
   "cell_type": "code",
   "execution_count": 35,
   "metadata": {
    "collapsed": false,
    "deletable": true,
    "editable": true
   },
   "outputs": [
    {
     "data": {
      "text/plain": [
       "<matplotlib.text.Text at 0x7ff58e6fbb38>"
      ]
     },
     "execution_count": 35,
     "metadata": {},
     "output_type": "execute_result"
    },
    {
     "data": {
      "image/png": "[encoded data removed]",
      "text/plain": [
       "<matplotlib.figure.Figure at 0x7ff58e73fc18>"
      ]
     },
     "metadata": {},
     "output_type": "display_data"
    }
   ],
   "source": [
    "plt.figure(figsize=(10,4))\n",
    "plt.plot_date(datesarray,rivarray,'-')\n",
    "plt.grid(True)\n",
    "plt.gca().set_ylabel('River dsicharge, m**3/s')"
   ]
  },
  {
   "cell_type": "markdown",
   "metadata": {
    "deletable": true,
    "editable": true
   },
   "source": [
    "в подписях мы можем использовать Юникод. Все символьные переменные в П3 по умолчанию Юникод"
   ]
  },
  {
   "cell_type": "code",
   "execution_count": 36,
   "metadata": {
    "collapsed": false,
    "deletable": true,
    "editable": true
   },
   "outputs": [
    {
     "data": {
      "text/plain": [
       "<matplotlib.text.Text at 0x7ff58e52cf98>"
      ]
     },
     "execution_count": 36,
     "metadata": {},
     "output_type": "execute_result"
    },
    {
     "data": {
      "image/png": "[encoded data removed]",
      "text/plain": [
       "<matplotlib.figure.Figure at 0x7ff58e655da0>"
      ]
     },
     "metadata": {},
     "output_type": "display_data"
    }
   ],
   "source": [
    "plt.figure(figsize=(10,4))\n",
    "plt.plot_date(datesarray,rivarray,'g-')\n",
    "plt.grid(True)\n",
    "plt.gca().set_ylabel('River dsicharge, m\\u00b3/s',fontsize=15)"
   ]
  },
  {
   "cell_type": "markdown",
   "metadata": {
    "deletable": true,
    "editable": true
   },
   "source": [
    "### Способ 2: numpy.loadtxt"
   ]
  },
  {
   "cell_type": "code",
   "execution_count": 37,
   "metadata": {
    "collapsed": false,
    "deletable": true,
    "editable": true
   },
   "outputs": [
    {
     "name": "stdout",
     "output_type": "stream",
     "text": [
      "Help on function loadtxt in module numpy.lib.npyio:\n",
      "\n",
      "loadtxt(fname, dtype=<class 'float'>, comments='#', delimiter=None, converters=None, skiprows=0, usecols=None, unpack=False, ndmin=0)\n",
      "    Load data from a text file.\n",
      "    \n",
      "    Each row in the text file must have the same number of values.\n",
      "    \n",
      "    Parameters\n",
      "    ----------\n",
      "    fname : file, str, or pathlib.Path\n",
      "        File, filename, or generator to read.  If the filename extension is\n",
      "        ``.gz`` or ``.bz2``, the file is first decompressed. Note that\n",
      "        generators should return byte strings for Python 3k.\n",
      "    dtype : data-type, optional\n",
      "        Data-type of the resulting array; default: float.  If this is a\n",
      "        structured data-type, the resulting array will be 1-dimensional, and\n",
      "        each row will be interpreted as an element of the array.  In this\n",
      "        case, the number of columns used must match the number of fields in\n",
      "        the data-type.\n",
      "    comments : str or sequence, optional\n",
      "        The characters or list of characters used to indicate the start of a\n",
      "        comment;\n",
      "        default: '#'.\n",
      "    delimiter : str, optional\n",
      "        The string used to separate values.  By default, this is any\n",
      "        whitespace.\n",
      "    converters : dict, optional\n",
      "        A dictionary mapping column number to a function that will convert\n",
      "        that column to a float.  E.g., if column 0 is a date string:\n",
      "        ``converters = {0: datestr2num}``.  Converters can also be used to\n",
      "        provide a default value for missing data (but see also `genfromtxt`):\n",
      "        ``converters = {3: lambda s: float(s.strip() or 0)}``.  Default: None.\n",
      "    skiprows : int, optional\n",
      "        Skip the first `skiprows` lines; default: 0.\n",
      "    \n",
      "    usecols : int or sequence, optional\n",
      "        Which columns to read, with 0 being the first. For example,\n",
      "        usecols = (1,4,5) will extract the 2nd, 5th and 6th columns.\n",
      "        The default, None, results in all columns being read.\n",
      "    \n",
      "        .. versionadded:: 1.11.0\n",
      "    \n",
      "        Also when a single column has to be read it is possible to use\n",
      "        an integer instead of a tuple. E.g ``usecols = 3`` reads the\n",
      "        fourth column the same way as `usecols = (3,)`` would.\n",
      "    \n",
      "    unpack : bool, optional\n",
      "        If True, the returned array is transposed, so that arguments may be\n",
      "        unpacked using ``x, y, z = loadtxt(...)``.  When used with a structured\n",
      "        data-type, arrays are returned for each field.  Default is False.\n",
      "    ndmin : int, optional\n",
      "        The returned array will have at least `ndmin` dimensions.\n",
      "        Otherwise mono-dimensional axes will be squeezed.\n",
      "        Legal values: 0 (default), 1 or 2.\n",
      "    \n",
      "        .. versionadded:: 1.6.0\n",
      "    \n",
      "    Returns\n",
      "    -------\n",
      "    out : ndarray\n",
      "        Data read from the text file.\n",
      "    \n",
      "    See Also\n",
      "    --------\n",
      "    load, fromstring, fromregex\n",
      "    genfromtxt : Load data with missing values handled as specified.\n",
      "    scipy.io.loadmat : reads MATLAB data files\n",
      "    \n",
      "    Notes\n",
      "    -----\n",
      "    This function aims to be a fast reader for simply formatted files.  The\n",
      "    `genfromtxt` function provides more sophisticated handling of, e.g.,\n",
      "    lines with missing values.\n",
      "    \n",
      "    .. versionadded:: 1.10.0\n",
      "    \n",
      "    The strings produced by the Python float.hex method can be used as\n",
      "    input for floats.\n",
      "    \n",
      "    Examples\n",
      "    --------\n",
      "    >>> from io import StringIO   # StringIO behaves like a file object\n",
      "    >>> c = StringIO(\"0 1\\n2 3\")\n",
      "    >>> np.loadtxt(c)\n",
      "    array([[ 0.,  1.],\n",
      "           [ 2.,  3.]])\n",
      "    \n",
      "    >>> d = StringIO(\"M 21 72\\nF 35 58\")\n",
      "    >>> np.loadtxt(d, dtype={'names': ('gender', 'age', 'weight'),\n",
      "    ...                      'formats': ('S1', 'i4', 'f4')})\n",
      "    array([('M', 21, 72.0), ('F', 35, 58.0)],\n",
      "          dtype=[('gender', '|S1'), ('age', '<i4'), ('weight', '<f4')])\n",
      "    \n",
      "    >>> c = StringIO(\"1,0,2\\n3,0,4\")\n",
      "    >>> x, y = np.loadtxt(c, delimiter=',', usecols=(0, 2), unpack=True)\n",
      "    >>> x\n",
      "    array([ 1.,  3.])\n",
      "    >>> y\n",
      "    array([ 2.,  4.])\n",
      "\n"
     ]
    }
   ],
   "source": [
    "help(np.loadtxt)"
   ]
  },
  {
   "cell_type": "code",
   "execution_count": 40,
   "metadata": {
    "collapsed": true
   },
   "outputs": [],
   "source": [
    "np.genfromtxt?"
   ]
  },
  {
   "cell_type": "code",
   "execution_count": 41,
   "metadata": {
    "collapsed": false,
    "deletable": true,
    "editable": true
   },
   "outputs": [
    {
     "ename": "ValueError",
     "evalue": "could not convert string to float: b'1981-01-01'",
     "output_type": "error",
     "traceback": [
      "\u001b[0;31m---------------------------------------------------------------------------\u001b[0m",
      "\u001b[0;31mValueError\u001b[0m                                Traceback (most recent call last)",
      "\u001b[0;32m<ipython-input-41-bf57682b4165>\u001b[0m in \u001b[0;36m<module>\u001b[0;34m()\u001b[0m\n\u001b[0;32m----> 1\u001b[0;31m \u001b[0mdata\u001b[0m \u001b[0;34m=\u001b[0m \u001b[0mnp\u001b[0m\u001b[0;34m.\u001b[0m\u001b[0mloadtxt\u001b[0m\u001b[0;34m(\u001b[0m\u001b[0;34m'9000126.csv'\u001b[0m\u001b[0;34m,\u001b[0m\u001b[0mdelimiter\u001b[0m\u001b[0;34m=\u001b[0m\u001b[0;34m','\u001b[0m\u001b[0;34m,\u001b[0m\u001b[0mskiprows\u001b[0m\u001b[0;34m=\u001b[0m\u001b[0;36m1\u001b[0m\u001b[0;34m)\u001b[0m\u001b[0;34m\u001b[0m\u001b[0m\n\u001b[0m",
      "\u001b[0;32m/opt/miniconda3/envs/ocean/lib/python3.5/site-packages/numpy/lib/npyio.py\u001b[0m in \u001b[0;36mloadtxt\u001b[0;34m(fname, dtype, comments, delimiter, converters, skiprows, usecols, unpack, ndmin)\u001b[0m\n\u001b[1;32m    983\u001b[0m \u001b[0;34m\u001b[0m\u001b[0m\n\u001b[1;32m    984\u001b[0m             \u001b[0;31m# Convert each value according to its column and store\u001b[0m\u001b[0;34m\u001b[0m\u001b[0;34m\u001b[0m\u001b[0m\n\u001b[0;32m--> 985\u001b[0;31m             \u001b[0mitems\u001b[0m \u001b[0;34m=\u001b[0m \u001b[0;34m[\u001b[0m\u001b[0mconv\u001b[0m\u001b[0;34m(\u001b[0m\u001b[0mval\u001b[0m\u001b[0;34m)\u001b[0m \u001b[0;32mfor\u001b[0m \u001b[0;34m(\u001b[0m\u001b[0mconv\u001b[0m\u001b[0;34m,\u001b[0m \u001b[0mval\u001b[0m\u001b[0;34m)\u001b[0m \u001b[0;32min\u001b[0m \u001b[0mzip\u001b[0m\u001b[0;34m(\u001b[0m\u001b[0mconverters\u001b[0m\u001b[0;34m,\u001b[0m \u001b[0mvals\u001b[0m\u001b[0;34m)\u001b[0m\u001b[0;34m]\u001b[0m\u001b[0;34m\u001b[0m\u001b[0m\n\u001b[0m\u001b[1;32m    986\u001b[0m             \u001b[0;31m# Then pack it according to the dtype's nesting\u001b[0m\u001b[0;34m\u001b[0m\u001b[0;34m\u001b[0m\u001b[0m\n\u001b[1;32m    987\u001b[0m             \u001b[0mitems\u001b[0m \u001b[0;34m=\u001b[0m \u001b[0mpack_items\u001b[0m\u001b[0;34m(\u001b[0m\u001b[0mitems\u001b[0m\u001b[0;34m,\u001b[0m \u001b[0mpacking\u001b[0m\u001b[0;34m)\u001b[0m\u001b[0;34m\u001b[0m\u001b[0m\n",
      "\u001b[0;32m/opt/miniconda3/envs/ocean/lib/python3.5/site-packages/numpy/lib/npyio.py\u001b[0m in \u001b[0;36m<listcomp>\u001b[0;34m(.0)\u001b[0m\n\u001b[1;32m    983\u001b[0m \u001b[0;34m\u001b[0m\u001b[0m\n\u001b[1;32m    984\u001b[0m             \u001b[0;31m# Convert each value according to its column and store\u001b[0m\u001b[0;34m\u001b[0m\u001b[0;34m\u001b[0m\u001b[0m\n\u001b[0;32m--> 985\u001b[0;31m             \u001b[0mitems\u001b[0m \u001b[0;34m=\u001b[0m \u001b[0;34m[\u001b[0m\u001b[0mconv\u001b[0m\u001b[0;34m(\u001b[0m\u001b[0mval\u001b[0m\u001b[0;34m)\u001b[0m \u001b[0;32mfor\u001b[0m \u001b[0;34m(\u001b[0m\u001b[0mconv\u001b[0m\u001b[0;34m,\u001b[0m \u001b[0mval\u001b[0m\u001b[0;34m)\u001b[0m \u001b[0;32min\u001b[0m \u001b[0mzip\u001b[0m\u001b[0;34m(\u001b[0m\u001b[0mconverters\u001b[0m\u001b[0;34m,\u001b[0m \u001b[0mvals\u001b[0m\u001b[0;34m)\u001b[0m\u001b[0;34m]\u001b[0m\u001b[0;34m\u001b[0m\u001b[0m\n\u001b[0m\u001b[1;32m    986\u001b[0m             \u001b[0;31m# Then pack it according to the dtype's nesting\u001b[0m\u001b[0;34m\u001b[0m\u001b[0;34m\u001b[0m\u001b[0m\n\u001b[1;32m    987\u001b[0m             \u001b[0mitems\u001b[0m \u001b[0;34m=\u001b[0m \u001b[0mpack_items\u001b[0m\u001b[0;34m(\u001b[0m\u001b[0mitems\u001b[0m\u001b[0;34m,\u001b[0m \u001b[0mpacking\u001b[0m\u001b[0;34m)\u001b[0m\u001b[0;34m\u001b[0m\u001b[0m\n",
      "\u001b[0;32m/opt/miniconda3/envs/ocean/lib/python3.5/site-packages/numpy/lib/npyio.py\u001b[0m in \u001b[0;36mfloatconv\u001b[0;34m(x)\u001b[0m\n\u001b[1;32m    685\u001b[0m         \u001b[0;32mif\u001b[0m \u001b[0;34mb'0x'\u001b[0m \u001b[0;32min\u001b[0m \u001b[0mx\u001b[0m\u001b[0;34m:\u001b[0m\u001b[0;34m\u001b[0m\u001b[0m\n\u001b[1;32m    686\u001b[0m             \u001b[0;32mreturn\u001b[0m \u001b[0mfloat\u001b[0m\u001b[0;34m.\u001b[0m\u001b[0mfromhex\u001b[0m\u001b[0;34m(\u001b[0m\u001b[0masstr\u001b[0m\u001b[0;34m(\u001b[0m\u001b[0mx\u001b[0m\u001b[0;34m)\u001b[0m\u001b[0;34m)\u001b[0m\u001b[0;34m\u001b[0m\u001b[0m\n\u001b[0;32m--> 687\u001b[0;31m         \u001b[0;32mreturn\u001b[0m \u001b[0mfloat\u001b[0m\u001b[0;34m(\u001b[0m\u001b[0mx\u001b[0m\u001b[0;34m)\u001b[0m\u001b[0;34m\u001b[0m\u001b[0m\n\u001b[0m\u001b[1;32m    688\u001b[0m \u001b[0;34m\u001b[0m\u001b[0m\n\u001b[1;32m    689\u001b[0m     \u001b[0mtyp\u001b[0m \u001b[0;34m=\u001b[0m \u001b[0mdtype\u001b[0m\u001b[0;34m.\u001b[0m\u001b[0mtype\u001b[0m\u001b[0;34m\u001b[0m\u001b[0m\n",
      "\u001b[0;31mValueError\u001b[0m: could not convert string to float: b'1981-01-01'"
     ]
    }
   ],
   "source": [
    "data = np.loadtxt('9000126.csv',delimiter=',',skiprows=1)"
   ]
  },
  {
   "cell_type": "code",
   "execution_count": 42,
   "metadata": {
    "collapsed": false,
    "deletable": true,
    "editable": true
   },
   "outputs": [
    {
     "name": "stdout",
     "output_type": "stream",
     "text": [
      "Date,River discharge (m3/s)\r\n",
      "1981-01-01,20.7945003509521\r\n",
      "1981-01-02,23.4088001251221\r\n",
      "1981-01-03,22.4591007232666\r\n",
      "1981-01-04,20.2217998504639\r\n",
      "1981-01-05,18.0496006011963\r\n",
      "1981-01-06,16.2210006713867\r\n",
      "1981-01-07,14.6339998245239\r\n",
      "1981-01-08,13.2631998062134\r\n",
      "1981-01-09,12.1596002578735\r\n"
     ]
    }
   ],
   "source": [
    "!head 9000126.csv"
   ]
  },
  {
   "cell_type": "code",
   "execution_count": 43,
   "metadata": {
    "collapsed": true,
    "deletable": true,
    "editable": true
   },
   "outputs": [],
   "source": [
    "riv = np.loadtxt('9000126.csv',delimiter=',',skiprows=1,usecols=1)"
   ]
  },
  {
   "cell_type": "code",
   "execution_count": 44,
   "metadata": {
    "collapsed": false
   },
   "outputs": [
    {
     "data": {
      "text/plain": [
       "array([ 20.79450035,  23.40880013,  22.45910072, ...,   3.38860011,\n",
       "         3.35489988,   3.32240009])"
      ]
     },
     "execution_count": 44,
     "metadata": {},
     "output_type": "execute_result"
    }
   ],
   "source": [
    "riv"
   ]
  },
  {
   "cell_type": "code",
   "execution_count": 45,
   "metadata": {
    "collapsed": true,
    "deletable": true,
    "editable": true
   },
   "outputs": [],
   "source": [
    "dates = np.loadtxt('9000126.csv',dtype=np.object,delimiter=',',skiprows=1,usecols=0)"
   ]
  },
  {
   "cell_type": "code",
   "execution_count": 46,
   "metadata": {
    "collapsed": false,
    "deletable": true,
    "editable": true
   },
   "outputs": [
    {
     "data": {
      "text/plain": [
       "array([\"b'1981-01-01'\", \"b'1981-01-02'\", \"b'1981-01-03'\", ...,\n",
       "       \"b'2010-12-29'\", \"b'2010-12-30'\", \"b'2010-12-31'\"], dtype=object)"
      ]
     },
     "execution_count": 46,
     "metadata": {},
     "output_type": "execute_result"
    }
   ],
   "source": [
    "dates"
   ]
  },
  {
   "cell_type": "code",
   "execution_count": 47,
   "metadata": {
    "collapsed": true,
    "deletable": true,
    "editable": true
   },
   "outputs": [],
   "source": [
    "convert = lambda x: datetime.strptime(x,'%Y-%m-%d')"
   ]
  },
  {
   "cell_type": "code",
   "execution_count": 49,
   "metadata": {
    "collapsed": false
   },
   "outputs": [
    {
     "data": {
      "text/plain": [
       "5"
      ]
     },
     "execution_count": 49,
     "metadata": {},
     "output_type": "execute_result"
    }
   ],
   "source": [
    "convert('1850-01-05').day"
   ]
  },
  {
   "cell_type": "code",
   "execution_count": 50,
   "metadata": {
    "collapsed": false,
    "deletable": true,
    "editable": true
   },
   "outputs": [
    {
     "ename": "TypeError",
     "evalue": "strptime() argument 1 must be str, not bytes",
     "output_type": "error",
     "traceback": [
      "\u001b[0;31m---------------------------------------------------------------------------\u001b[0m",
      "\u001b[0;31mTypeError\u001b[0m                                 Traceback (most recent call last)",
      "\u001b[0;32m<ipython-input-50-0316defe2ab4>\u001b[0m in \u001b[0;36m<module>\u001b[0;34m()\u001b[0m\n\u001b[0;32m----> 1\u001b[0;31m \u001b[0mdates\u001b[0m \u001b[0;34m=\u001b[0m \u001b[0mnp\u001b[0m\u001b[0;34m.\u001b[0m\u001b[0mloadtxt\u001b[0m\u001b[0;34m(\u001b[0m\u001b[0;34m'9000126.csv'\u001b[0m\u001b[0;34m,\u001b[0m \u001b[0mdelimiter\u001b[0m\u001b[0;34m=\u001b[0m\u001b[0;34m\",\"\u001b[0m\u001b[0;34m,\u001b[0m \u001b[0mconverters\u001b[0m\u001b[0;34m=\u001b[0m\u001b[0;34m{\u001b[0m\u001b[0;36m0\u001b[0m\u001b[0;34m:\u001b[0m\u001b[0mconvert\u001b[0m\u001b[0;34m,\u001b[0m\u001b[0;36m1\u001b[0m\u001b[0;34m:\u001b[0m\u001b[0mnp\u001b[0m\u001b[0;34m.\u001b[0m\u001b[0mfloat64\u001b[0m\u001b[0;34m}\u001b[0m\u001b[0;34m,\u001b[0m \u001b[0mdtype\u001b[0m\u001b[0;34m=\u001b[0m \u001b[0mdatetime\u001b[0m\u001b[0;34m,\u001b[0m\u001b[0mskiprows\u001b[0m\u001b[0;34m=\u001b[0m\u001b[0;36m1\u001b[0m\u001b[0;34m,\u001b[0m\u001b[0musecols\u001b[0m\u001b[0;34m=\u001b[0m\u001b[0;36m0\u001b[0m\u001b[0;34m)\u001b[0m\u001b[0;34m\u001b[0m\u001b[0m\n\u001b[0m",
      "\u001b[0;32m/opt/miniconda3/envs/ocean/lib/python3.5/site-packages/numpy/lib/npyio.py\u001b[0m in \u001b[0;36mloadtxt\u001b[0;34m(fname, dtype, comments, delimiter, converters, skiprows, usecols, unpack, ndmin)\u001b[0m\n\u001b[1;32m    983\u001b[0m \u001b[0;34m\u001b[0m\u001b[0m\n\u001b[1;32m    984\u001b[0m             \u001b[0;31m# Convert each value according to its column and store\u001b[0m\u001b[0;34m\u001b[0m\u001b[0;34m\u001b[0m\u001b[0m\n\u001b[0;32m--> 985\u001b[0;31m             \u001b[0mitems\u001b[0m \u001b[0;34m=\u001b[0m \u001b[0;34m[\u001b[0m\u001b[0mconv\u001b[0m\u001b[0;34m(\u001b[0m\u001b[0mval\u001b[0m\u001b[0;34m)\u001b[0m \u001b[0;32mfor\u001b[0m \u001b[0;34m(\u001b[0m\u001b[0mconv\u001b[0m\u001b[0;34m,\u001b[0m \u001b[0mval\u001b[0m\u001b[0;34m)\u001b[0m \u001b[0;32min\u001b[0m \u001b[0mzip\u001b[0m\u001b[0;34m(\u001b[0m\u001b[0mconverters\u001b[0m\u001b[0;34m,\u001b[0m \u001b[0mvals\u001b[0m\u001b[0;34m)\u001b[0m\u001b[0;34m]\u001b[0m\u001b[0;34m\u001b[0m\u001b[0m\n\u001b[0m\u001b[1;32m    986\u001b[0m             \u001b[0;31m# Then pack it according to the dtype's nesting\u001b[0m\u001b[0;34m\u001b[0m\u001b[0;34m\u001b[0m\u001b[0m\n\u001b[1;32m    987\u001b[0m             \u001b[0mitems\u001b[0m \u001b[0;34m=\u001b[0m \u001b[0mpack_items\u001b[0m\u001b[0;34m(\u001b[0m\u001b[0mitems\u001b[0m\u001b[0;34m,\u001b[0m \u001b[0mpacking\u001b[0m\u001b[0;34m)\u001b[0m\u001b[0;34m\u001b[0m\u001b[0m\n",
      "\u001b[0;32m/opt/miniconda3/envs/ocean/lib/python3.5/site-packages/numpy/lib/npyio.py\u001b[0m in \u001b[0;36m<listcomp>\u001b[0;34m(.0)\u001b[0m\n\u001b[1;32m    983\u001b[0m \u001b[0;34m\u001b[0m\u001b[0m\n\u001b[1;32m    984\u001b[0m             \u001b[0;31m# Convert each value according to its column and store\u001b[0m\u001b[0;34m\u001b[0m\u001b[0;34m\u001b[0m\u001b[0m\n\u001b[0;32m--> 985\u001b[0;31m             \u001b[0mitems\u001b[0m \u001b[0;34m=\u001b[0m \u001b[0;34m[\u001b[0m\u001b[0mconv\u001b[0m\u001b[0;34m(\u001b[0m\u001b[0mval\u001b[0m\u001b[0;34m)\u001b[0m \u001b[0;32mfor\u001b[0m \u001b[0;34m(\u001b[0m\u001b[0mconv\u001b[0m\u001b[0;34m,\u001b[0m \u001b[0mval\u001b[0m\u001b[0;34m)\u001b[0m \u001b[0;32min\u001b[0m \u001b[0mzip\u001b[0m\u001b[0;34m(\u001b[0m\u001b[0mconverters\u001b[0m\u001b[0;34m,\u001b[0m \u001b[0mvals\u001b[0m\u001b[0;34m)\u001b[0m\u001b[0;34m]\u001b[0m\u001b[0;34m\u001b[0m\u001b[0m\n\u001b[0m\u001b[1;32m    986\u001b[0m             \u001b[0;31m# Then pack it according to the dtype's nesting\u001b[0m\u001b[0;34m\u001b[0m\u001b[0;34m\u001b[0m\u001b[0m\n\u001b[1;32m    987\u001b[0m             \u001b[0mitems\u001b[0m \u001b[0;34m=\u001b[0m \u001b[0mpack_items\u001b[0m\u001b[0;34m(\u001b[0m\u001b[0mitems\u001b[0m\u001b[0;34m,\u001b[0m \u001b[0mpacking\u001b[0m\u001b[0;34m)\u001b[0m\u001b[0;34m\u001b[0m\u001b[0m\n",
      "\u001b[0;32m<ipython-input-47-152d51c8741a>\u001b[0m in \u001b[0;36m<lambda>\u001b[0;34m(x)\u001b[0m\n\u001b[0;32m----> 1\u001b[0;31m \u001b[0mconvert\u001b[0m \u001b[0;34m=\u001b[0m \u001b[0;32mlambda\u001b[0m \u001b[0mx\u001b[0m\u001b[0;34m:\u001b[0m \u001b[0mdatetime\u001b[0m\u001b[0;34m.\u001b[0m\u001b[0mstrptime\u001b[0m\u001b[0;34m(\u001b[0m\u001b[0mx\u001b[0m\u001b[0;34m,\u001b[0m\u001b[0;34m'%Y-%m-%d'\u001b[0m\u001b[0;34m)\u001b[0m\u001b[0;34m\u001b[0m\u001b[0m\n\u001b[0m",
      "\u001b[0;31mTypeError\u001b[0m: strptime() argument 1 must be str, not bytes"
     ]
    }
   ],
   "source": [
    "dates = np.loadtxt('9000126.csv', delimiter=\",\", converters={0:convert,1:np.float64}, dtype= datetime,skiprows=1,usecols=0)"
   ]
  },
  {
   "cell_type": "code",
   "execution_count": 51,
   "metadata": {
    "collapsed": true,
    "deletable": true,
    "editable": true
   },
   "outputs": [],
   "source": [
    "convert = lambda x: datetime.strptime(x.decode(\"utf8\"),'%Y-%m-%d')"
   ]
  },
  {
   "cell_type": "code",
   "execution_count": 52,
   "metadata": {
    "collapsed": false,
    "deletable": true,
    "editable": true
   },
   "outputs": [],
   "source": [
    "dates = np.loadtxt('9000126.csv', delimiter=\",\", converters={0:convert,1:np.float64}, dtype= datetime,skiprows=1,usecols=0)"
   ]
  },
  {
   "cell_type": "code",
   "execution_count": 55,
   "metadata": {
    "collapsed": false,
    "deletable": true,
    "editable": true
   },
   "outputs": [],
   "source": [
    "dates = np.loadtxt('9000126.csv', delimiter=\",\", converters={0:lambda x: datetime.strptime(x.decode(\"utf8\"),'%Y-%m-%d'),1:np.float64}, dtype= datetime,skiprows=1,usecols=0)"
   ]
  },
  {
   "cell_type": "code",
   "execution_count": 56,
   "metadata": {
    "collapsed": false,
    "deletable": true,
    "editable": true
   },
   "outputs": [
    {
     "data": {
      "text/plain": [
       "array([datetime.datetime(1981, 1, 1, 0, 0),\n",
       "       datetime.datetime(1981, 1, 2, 0, 0),\n",
       "       datetime.datetime(1981, 1, 3, 0, 0), ...,\n",
       "       datetime.datetime(2010, 12, 29, 0, 0),\n",
       "       datetime.datetime(2010, 12, 30, 0, 0),\n",
       "       datetime.datetime(2010, 12, 31, 0, 0)], dtype=object)"
      ]
     },
     "execution_count": 56,
     "metadata": {},
     "output_type": "execute_result"
    }
   ],
   "source": [
    "dates"
   ]
  },
  {
   "cell_type": "code",
   "execution_count": 57,
   "metadata": {
    "collapsed": false,
    "deletable": true,
    "editable": true
   },
   "outputs": [
    {
     "data": {
      "text/plain": [
       "<matplotlib.text.Text at 0x7ff590d71668>"
      ]
     },
     "execution_count": 57,
     "metadata": {},
     "output_type": "execute_result"
    },
    {
     "data": {
      "image/png": "[encoded data removed]",
      "text/plain": [
       "<matplotlib.figure.Figure at 0x7ff590d90e48>"
      ]
     },
     "metadata": {},
     "output_type": "display_data"
    }
   ],
   "source": [
    "plt.figure(figsize=(10,4))\n",
    "plt.plot_date(dates,riv,'g-')\n",
    "plt.grid(True)\n",
    "plt.gca().set_ylabel('River dsicharge, m\\u00b3/s',fontsize=15)"
   ]
  },
  {
   "cell_type": "code",
   "execution_count": 75,
   "metadata": {
    "collapsed": false
   },
   "outputs": [
    {
     "data": {
      "text/plain": [
       "array([datetime.datetime(1981, 1, 1, 0, 0),\n",
       "       datetime.datetime(1981, 1, 2, 0, 0),\n",
       "       datetime.datetime(1981, 1, 3, 0, 0), ...,\n",
       "       datetime.datetime(2010, 12, 29, 0, 0),\n",
       "       datetime.datetime(2010, 12, 30, 0, 0),\n",
       "       datetime.datetime(2010, 12, 31, 0, 0)], dtype=object)"
      ]
     },
     "execution_count": 75,
     "metadata": {},
     "output_type": "execute_result"
    }
   ],
   "source": [
    "dates"
   ]
  },
  {
   "cell_type": "code",
   "execution_count": 76,
   "metadata": {
    "collapsed": false,
    "deletable": true,
    "editable": true
   },
   "outputs": [],
   "source": [
    "datesstr = [d.strftime(\"%Y%m%d\") for d in dates]"
   ]
  },
  {
   "cell_type": "code",
   "execution_count": 74,
   "metadata": {
    "collapsed": false
   },
   "outputs": [
    {
     "data": {
      "text/plain": [
       "['19810101',\n",
       " '19810102',\n",
       " '19810103',\n",
       " '19810104',\n",
       " '19810105',\n",
       " '19810106',\n",
       " '19810107',\n",
       " '19810108',\n",
       " '19810109',\n",
       " '19810110',\n",
       " '19810111',\n",
       " '19810112',\n",
       " '19810113',\n",
       " '19810114',\n",
       " '19810115',\n",
       " '19810116',\n",
       " '19810117',\n",
       " '19810118',\n",
       " '19810119',\n",
       " '19810120',\n",
       " '19810121',\n",
       " '19810122',\n",
       " '19810123',\n",
       " '19810124',\n",
       " '19810125',\n",
       " '19810126',\n",
       " '19810127',\n",
       " '19810128',\n",
       " '19810129',\n",
       " '19810130',\n",
       " '19810131',\n",
       " '19810201',\n",
       " '19810202',\n",
       " '19810203',\n",
       " '19810204',\n",
       " '19810205',\n",
       " '19810206',\n",
       " '19810207',\n",
       " '19810208',\n",
       " '19810209',\n",
       " '19810210',\n",
       " '19810211',\n",
       " '19810212',\n",
       " '19810213',\n",
       " '19810214',\n",
       " '19810215',\n",
       " '19810216',\n",
       " '19810217',\n",
       " '19810218',\n",
       " '19810219',\n",
       " '19810220',\n",
       " '19810221',\n",
       " '19810222',\n",
       " '19810223',\n",
       " '19810224',\n",
       " '19810225',\n",
       " '19810226',\n",
       " '19810227',\n",
       " '19810228',\n",
       " '19810301',\n",
       " '19810302',\n",
       " '19810303',\n",
       " '19810304',\n",
       " '19810305',\n",
       " '19810306',\n",
       " '19810307',\n",
       " '19810308',\n",
       " '19810309',\n",
       " '19810310',\n",
       " '19810311',\n",
       " '19810312',\n",
       " '19810313',\n",
       " '19810314',\n",
       " '19810315',\n",
       " '19810316',\n",
       " '19810317',\n",
       " '19810318',\n",
       " '19810319',\n",
       " '19810320',\n",
       " '19810321',\n",
       " '19810322',\n",
       " '19810323',\n",
       " '19810324',\n",
       " '19810325',\n",
       " '19810326',\n",
       " '19810327',\n",
       " '19810328',\n",
       " '19810329',\n",
       " '19810330',\n",
       " '19810331',\n",
       " '19810401',\n",
       " '19810402',\n",
       " '19810403',\n",
       " '19810404',\n",
       " '19810405',\n",
       " '19810406',\n",
       " '19810407',\n",
       " '19810408',\n",
       " '19810409',\n",
       " '19810410',\n",
       " '19810411',\n",
       " '19810412',\n",
       " '19810413',\n",
       " '19810414',\n",
       " '19810415',\n",
       " '19810416',\n",
       " '19810417',\n",
       " '19810418',\n",
       " '19810419',\n",
       " '19810420',\n",
       " '19810421',\n",
       " '19810422',\n",
       " '19810423',\n",
       " '19810424',\n",
       " '19810425',\n",
       " '19810426',\n",
       " '19810427',\n",
       " '19810428',\n",
       " '19810429',\n",
       " '19810430',\n",
       " '19810501',\n",
       " '19810502',\n",
       " '19810503',\n",
       " '19810504',\n",
       " '19810505',\n",
       " '19810506',\n",
       " '19810507',\n",
       " '19810508',\n",
       " '19810509',\n",
       " '19810510',\n",
       " '19810511',\n",
       " '19810512',\n",
       " '19810513',\n",
       " '19810514',\n",
       " '19810515',\n",
       " '19810516',\n",
       " '19810517',\n",
       " '19810518',\n",
       " '19810519',\n",
       " '19810520',\n",
       " '19810521',\n",
       " '19810522',\n",
       " '19810523',\n",
       " '19810524',\n",
       " '19810525',\n",
       " '19810526',\n",
       " '19810527',\n",
       " '19810528',\n",
       " '19810529',\n",
       " '19810530',\n",
       " '19810531',\n",
       " '19810601',\n",
       " '19810602',\n",
       " '19810603',\n",
       " '19810604',\n",
       " '19810605',\n",
       " '19810606',\n",
       " '19810607',\n",
       " '19810608',\n",
       " '19810609',\n",
       " '19810610',\n",
       " '19810611',\n",
       " '19810612',\n",
       " '19810613',\n",
       " '19810614',\n",
       " '19810615',\n",
       " '19810616',\n",
       " '19810617',\n",
       " '19810618',\n",
       " '19810619',\n",
       " '19810620',\n",
       " '19810621',\n",
       " '19810622',\n",
       " '19810623',\n",
       " '19810624',\n",
       " '19810625',\n",
       " '19810626',\n",
       " '19810627',\n",
       " '19810628',\n",
       " '19810629',\n",
       " '19810630',\n",
       " '19810701',\n",
       " '19810702',\n",
       " '19810703',\n",
       " '19810704',\n",
       " '19810705',\n",
       " '19810706',\n",
       " '19810707',\n",
       " '19810708',\n",
       " '19810709',\n",
       " '19810710',\n",
       " '19810711',\n",
       " '19810712',\n",
       " '19810713',\n",
       " '19810714',\n",
       " '19810715',\n",
       " '19810716',\n",
       " '19810717',\n",
       " '19810718',\n",
       " '19810719',\n",
       " '19810720',\n",
       " '19810721',\n",
       " '19810722',\n",
       " '19810723',\n",
       " '19810724',\n",
       " '19810725',\n",
       " '19810726',\n",
       " '19810727',\n",
       " '19810728',\n",
       " '19810729',\n",
       " '19810730',\n",
       " '19810731',\n",
       " '19810801',\n",
       " '19810802',\n",
       " '19810803',\n",
       " '19810804',\n",
       " '19810805',\n",
       " '19810806',\n",
       " '19810807',\n",
       " '19810808',\n",
       " '19810809',\n",
       " '19810810',\n",
       " '19810811',\n",
       " '19810812',\n",
       " '19810813',\n",
       " '19810814',\n",
       " '19810815',\n",
       " '19810816',\n",
       " '19810817',\n",
       " '19810818',\n",
       " '19810819',\n",
       " '19810820',\n",
       " '19810821',\n",
       " '19810822',\n",
       " '19810823',\n",
       " '19810824',\n",
       " '19810825',\n",
       " '19810826',\n",
       " '19810827',\n",
       " '19810828',\n",
       " '19810829',\n",
       " '19810830',\n",
       " '19810831',\n",
       " '19810901',\n",
       " '19810902',\n",
       " '19810903',\n",
       " '19810904',\n",
       " '19810905',\n",
       " '19810906',\n",
       " '19810907',\n",
       " '19810908',\n",
       " '19810909',\n",
       " '19810910',\n",
       " '19810911',\n",
       " '19810912',\n",
       " '19810913',\n",
       " '19810914',\n",
       " '19810915',\n",
       " '19810916',\n",
       " '19810917',\n",
       " '19810918',\n",
       " '19810919',\n",
       " '19810920',\n",
       " '19810921',\n",
       " '19810922',\n",
       " '19810923',\n",
       " '19810924',\n",
       " '19810925',\n",
       " '19810926',\n",
       " '19810927',\n",
       " '19810928',\n",
       " '19810929',\n",
       " '19810930',\n",
       " '19811001',\n",
       " '19811002',\n",
       " '19811003',\n",
       " '19811004',\n",
       " '19811005',\n",
       " '19811006',\n",
       " '19811007',\n",
       " '19811008',\n",
       " '19811009',\n",
       " '19811010',\n",
       " '19811011',\n",
       " '19811012',\n",
       " '19811013',\n",
       " '19811014',\n",
       " '19811015',\n",
       " '19811016',\n",
       " '19811017',\n",
       " '19811018',\n",
       " '19811019',\n",
       " '19811020',\n",
       " '19811021',\n",
       " '19811022',\n",
       " '19811023',\n",
       " '19811024',\n",
       " '19811025',\n",
       " '19811026',\n",
       " '19811027',\n",
       " '19811028',\n",
       " '19811029',\n",
       " '19811030',\n",
       " '19811031',\n",
       " '19811101',\n",
       " '19811102',\n",
       " '19811103',\n",
       " '19811104',\n",
       " '19811105',\n",
       " '19811106',\n",
       " '19811107',\n",
       " '19811108',\n",
       " '19811109',\n",
       " '19811110',\n",
       " '19811111',\n",
       " '19811112',\n",
       " '19811113',\n",
       " '19811114',\n",
       " '19811115',\n",
       " '19811116',\n",
       " '19811117',\n",
       " '19811118',\n",
       " '19811119',\n",
       " '19811120',\n",
       " '19811121',\n",
       " '19811122',\n",
       " '19811123',\n",
       " '19811124',\n",
       " '19811125',\n",
       " '19811126',\n",
       " '19811127',\n",
       " '19811128',\n",
       " '19811129',\n",
       " '19811130',\n",
       " '19811201',\n",
       " '19811202',\n",
       " '19811203',\n",
       " '19811204',\n",
       " '19811205',\n",
       " '19811206',\n",
       " '19811207',\n",
       " '19811208',\n",
       " '19811209',\n",
       " '19811210',\n",
       " '19811211',\n",
       " '19811212',\n",
       " '19811213',\n",
       " '19811214',\n",
       " '19811215',\n",
       " '19811216',\n",
       " '19811217',\n",
       " '19811218',\n",
       " '19811219',\n",
       " '19811220',\n",
       " '19811221',\n",
       " '19811222',\n",
       " '19811223',\n",
       " '19811224',\n",
       " '19811225',\n",
       " '19811226',\n",
       " '19811227',\n",
       " '19811228',\n",
       " '19811229',\n",
       " '19811230',\n",
       " '19811231',\n",
       " '19820101',\n",
       " '19820102',\n",
       " '19820103',\n",
       " '19820104',\n",
       " '19820105',\n",
       " '19820106',\n",
       " '19820107',\n",
       " '19820108',\n",
       " '19820109',\n",
       " '19820110',\n",
       " '19820111',\n",
       " '19820112',\n",
       " '19820113',\n",
       " '19820114',\n",
       " '19820115',\n",
       " '19820116',\n",
       " '19820117',\n",
       " '19820118',\n",
       " '19820119',\n",
       " '19820120',\n",
       " '19820121',\n",
       " '19820122',\n",
       " '19820123',\n",
       " '19820124',\n",
       " '19820125',\n",
       " '19820126',\n",
       " '19820127',\n",
       " '19820128',\n",
       " '19820129',\n",
       " '19820130',\n",
       " '19820131',\n",
       " '19820201',\n",
       " '19820202',\n",
       " '19820203',\n",
       " '19820204',\n",
       " '19820205',\n",
       " '19820206',\n",
       " '19820207',\n",
       " '19820208',\n",
       " '19820209',\n",
       " '19820210',\n",
       " '19820211',\n",
       " '19820212',\n",
       " '19820213',\n",
       " '19820214',\n",
       " '19820215',\n",
       " '19820216',\n",
       " '19820217',\n",
       " '19820218',\n",
       " '19820219',\n",
       " '19820220',\n",
       " '19820221',\n",
       " '19820222',\n",
       " '19820223',\n",
       " '19820224',\n",
       " '19820225',\n",
       " '19820226',\n",
       " '19820227',\n",
       " '19820228',\n",
       " '19820301',\n",
       " '19820302',\n",
       " '19820303',\n",
       " '19820304',\n",
       " '19820305',\n",
       " '19820306',\n",
       " '19820307',\n",
       " '19820308',\n",
       " '19820309',\n",
       " '19820310',\n",
       " '19820311',\n",
       " '19820312',\n",
       " '19820313',\n",
       " '19820314',\n",
       " '19820315',\n",
       " '19820316',\n",
       " '19820317',\n",
       " '19820318',\n",
       " '19820319',\n",
       " '19820320',\n",
       " '19820321',\n",
       " '19820322',\n",
       " '19820323',\n",
       " '19820324',\n",
       " '19820325',\n",
       " '19820326',\n",
       " '19820327',\n",
       " '19820328',\n",
       " '19820329',\n",
       " '19820330',\n",
       " '19820331',\n",
       " '19820401',\n",
       " '19820402',\n",
       " '19820403',\n",
       " '19820404',\n",
       " '19820405',\n",
       " '19820406',\n",
       " '19820407',\n",
       " '19820408',\n",
       " '19820409',\n",
       " '19820410',\n",
       " '19820411',\n",
       " '19820412',\n",
       " '19820413',\n",
       " '19820414',\n",
       " '19820415',\n",
       " '19820416',\n",
       " '19820417',\n",
       " '19820418',\n",
       " '19820419',\n",
       " '19820420',\n",
       " '19820421',\n",
       " '19820422',\n",
       " '19820423',\n",
       " '19820424',\n",
       " '19820425',\n",
       " '19820426',\n",
       " '19820427',\n",
       " '19820428',\n",
       " '19820429',\n",
       " '19820430',\n",
       " '19820501',\n",
       " '19820502',\n",
       " '19820503',\n",
       " '19820504',\n",
       " '19820505',\n",
       " '19820506',\n",
       " '19820507',\n",
       " '19820508',\n",
       " '19820509',\n",
       " '19820510',\n",
       " '19820511',\n",
       " '19820512',\n",
       " '19820513',\n",
       " '19820514',\n",
       " '19820515',\n",
       " '19820516',\n",
       " '19820517',\n",
       " '19820518',\n",
       " '19820519',\n",
       " '19820520',\n",
       " '19820521',\n",
       " '19820522',\n",
       " '19820523',\n",
       " '19820524',\n",
       " '19820525',\n",
       " '19820526',\n",
       " '19820527',\n",
       " '19820528',\n",
       " '19820529',\n",
       " '19820530',\n",
       " '19820531',\n",
       " '19820601',\n",
       " '19820602',\n",
       " '19820603',\n",
       " '19820604',\n",
       " '19820605',\n",
       " '19820606',\n",
       " '19820607',\n",
       " '19820608',\n",
       " '19820609',\n",
       " '19820610',\n",
       " '19820611',\n",
       " '19820612',\n",
       " '19820613',\n",
       " '19820614',\n",
       " '19820615',\n",
       " '19820616',\n",
       " '19820617',\n",
       " '19820618',\n",
       " '19820619',\n",
       " '19820620',\n",
       " '19820621',\n",
       " '19820622',\n",
       " '19820623',\n",
       " '19820624',\n",
       " '19820625',\n",
       " '19820626',\n",
       " '19820627',\n",
       " '19820628',\n",
       " '19820629',\n",
       " '19820630',\n",
       " '19820701',\n",
       " '19820702',\n",
       " '19820703',\n",
       " '19820704',\n",
       " '19820705',\n",
       " '19820706',\n",
       " '19820707',\n",
       " '19820708',\n",
       " '19820709',\n",
       " '19820710',\n",
       " '19820711',\n",
       " '19820712',\n",
       " '19820713',\n",
       " '19820714',\n",
       " '19820715',\n",
       " '19820716',\n",
       " '19820717',\n",
       " '19820718',\n",
       " '19820719',\n",
       " '19820720',\n",
       " '19820721',\n",
       " '19820722',\n",
       " '19820723',\n",
       " '19820724',\n",
       " '19820725',\n",
       " '19820726',\n",
       " '19820727',\n",
       " '19820728',\n",
       " '19820729',\n",
       " '19820730',\n",
       " '19820731',\n",
       " '19820801',\n",
       " '19820802',\n",
       " '19820803',\n",
       " '19820804',\n",
       " '19820805',\n",
       " '19820806',\n",
       " '19820807',\n",
       " '19820808',\n",
       " '19820809',\n",
       " '19820810',\n",
       " '19820811',\n",
       " '19820812',\n",
       " '19820813',\n",
       " '19820814',\n",
       " '19820815',\n",
       " '19820816',\n",
       " '19820817',\n",
       " '19820818',\n",
       " '19820819',\n",
       " '19820820',\n",
       " '19820821',\n",
       " '19820822',\n",
       " '19820823',\n",
       " '19820824',\n",
       " '19820825',\n",
       " '19820826',\n",
       " '19820827',\n",
       " '19820828',\n",
       " '19820829',\n",
       " '19820830',\n",
       " '19820831',\n",
       " '19820901',\n",
       " '19820902',\n",
       " '19820903',\n",
       " '19820904',\n",
       " '19820905',\n",
       " '19820906',\n",
       " '19820907',\n",
       " '19820908',\n",
       " '19820909',\n",
       " '19820910',\n",
       " '19820911',\n",
       " '19820912',\n",
       " '19820913',\n",
       " '19820914',\n",
       " '19820915',\n",
       " '19820916',\n",
       " '19820917',\n",
       " '19820918',\n",
       " '19820919',\n",
       " '19820920',\n",
       " '19820921',\n",
       " '19820922',\n",
       " '19820923',\n",
       " '19820924',\n",
       " '19820925',\n",
       " '19820926',\n",
       " '19820927',\n",
       " '19820928',\n",
       " '19820929',\n",
       " '19820930',\n",
       " '19821001',\n",
       " '19821002',\n",
       " '19821003',\n",
       " '19821004',\n",
       " '19821005',\n",
       " '19821006',\n",
       " '19821007',\n",
       " '19821008',\n",
       " '19821009',\n",
       " '19821010',\n",
       " '19821011',\n",
       " '19821012',\n",
       " '19821013',\n",
       " '19821014',\n",
       " '19821015',\n",
       " '19821016',\n",
       " '19821017',\n",
       " '19821018',\n",
       " '19821019',\n",
       " '19821020',\n",
       " '19821021',\n",
       " '19821022',\n",
       " '19821023',\n",
       " '19821024',\n",
       " '19821025',\n",
       " '19821026',\n",
       " '19821027',\n",
       " '19821028',\n",
       " '19821029',\n",
       " '19821030',\n",
       " '19821031',\n",
       " '19821101',\n",
       " '19821102',\n",
       " '19821103',\n",
       " '19821104',\n",
       " '19821105',\n",
       " '19821106',\n",
       " '19821107',\n",
       " '19821108',\n",
       " '19821109',\n",
       " '19821110',\n",
       " '19821111',\n",
       " '19821112',\n",
       " '19821113',\n",
       " '19821114',\n",
       " '19821115',\n",
       " '19821116',\n",
       " '19821117',\n",
       " '19821118',\n",
       " '19821119',\n",
       " '19821120',\n",
       " '19821121',\n",
       " '19821122',\n",
       " '19821123',\n",
       " '19821124',\n",
       " '19821125',\n",
       " '19821126',\n",
       " '19821127',\n",
       " '19821128',\n",
       " '19821129',\n",
       " '19821130',\n",
       " '19821201',\n",
       " '19821202',\n",
       " '19821203',\n",
       " '19821204',\n",
       " '19821205',\n",
       " '19821206',\n",
       " '19821207',\n",
       " '19821208',\n",
       " '19821209',\n",
       " '19821210',\n",
       " '19821211',\n",
       " '19821212',\n",
       " '19821213',\n",
       " '19821214',\n",
       " '19821215',\n",
       " '19821216',\n",
       " '19821217',\n",
       " '19821218',\n",
       " '19821219',\n",
       " '19821220',\n",
       " '19821221',\n",
       " '19821222',\n",
       " '19821223',\n",
       " '19821224',\n",
       " '19821225',\n",
       " '19821226',\n",
       " '19821227',\n",
       " '19821228',\n",
       " '19821229',\n",
       " '19821230',\n",
       " '19821231',\n",
       " '19830101',\n",
       " '19830102',\n",
       " '19830103',\n",
       " '19830104',\n",
       " '19830105',\n",
       " '19830106',\n",
       " '19830107',\n",
       " '19830108',\n",
       " '19830109',\n",
       " '19830110',\n",
       " '19830111',\n",
       " '19830112',\n",
       " '19830113',\n",
       " '19830114',\n",
       " '19830115',\n",
       " '19830116',\n",
       " '19830117',\n",
       " '19830118',\n",
       " '19830119',\n",
       " '19830120',\n",
       " '19830121',\n",
       " '19830122',\n",
       " '19830123',\n",
       " '19830124',\n",
       " '19830125',\n",
       " '19830126',\n",
       " '19830127',\n",
       " '19830128',\n",
       " '19830129',\n",
       " '19830130',\n",
       " '19830131',\n",
       " '19830201',\n",
       " '19830202',\n",
       " '19830203',\n",
       " '19830204',\n",
       " '19830205',\n",
       " '19830206',\n",
       " '19830207',\n",
       " '19830208',\n",
       " '19830209',\n",
       " '19830210',\n",
       " '19830211',\n",
       " '19830212',\n",
       " '19830213',\n",
       " '19830214',\n",
       " '19830215',\n",
       " '19830216',\n",
       " '19830217',\n",
       " '19830218',\n",
       " '19830219',\n",
       " '19830220',\n",
       " '19830221',\n",
       " '19830222',\n",
       " '19830223',\n",
       " '19830224',\n",
       " '19830225',\n",
       " '19830226',\n",
       " '19830227',\n",
       " '19830228',\n",
       " '19830301',\n",
       " '19830302',\n",
       " '19830303',\n",
       " '19830304',\n",
       " '19830305',\n",
       " '19830306',\n",
       " '19830307',\n",
       " '19830308',\n",
       " '19830309',\n",
       " '19830310',\n",
       " '19830311',\n",
       " '19830312',\n",
       " '19830313',\n",
       " '19830314',\n",
       " '19830315',\n",
       " '19830316',\n",
       " '19830317',\n",
       " '19830318',\n",
       " '19830319',\n",
       " '19830320',\n",
       " '19830321',\n",
       " '19830322',\n",
       " '19830323',\n",
       " '19830324',\n",
       " '19830325',\n",
       " '19830326',\n",
       " '19830327',\n",
       " '19830328',\n",
       " '19830329',\n",
       " '19830330',\n",
       " '19830331',\n",
       " '19830401',\n",
       " '19830402',\n",
       " '19830403',\n",
       " '19830404',\n",
       " '19830405',\n",
       " '19830406',\n",
       " '19830407',\n",
       " '19830408',\n",
       " '19830409',\n",
       " '19830410',\n",
       " '19830411',\n",
       " '19830412',\n",
       " '19830413',\n",
       " '19830414',\n",
       " '19830415',\n",
       " '19830416',\n",
       " '19830417',\n",
       " '19830418',\n",
       " '19830419',\n",
       " '19830420',\n",
       " '19830421',\n",
       " '19830422',\n",
       " '19830423',\n",
       " '19830424',\n",
       " '19830425',\n",
       " '19830426',\n",
       " '19830427',\n",
       " '19830428',\n",
       " '19830429',\n",
       " '19830430',\n",
       " '19830501',\n",
       " '19830502',\n",
       " '19830503',\n",
       " '19830504',\n",
       " '19830505',\n",
       " '19830506',\n",
       " '19830507',\n",
       " '19830508',\n",
       " '19830509',\n",
       " '19830510',\n",
       " '19830511',\n",
       " '19830512',\n",
       " '19830513',\n",
       " '19830514',\n",
       " '19830515',\n",
       " '19830516',\n",
       " '19830517',\n",
       " '19830518',\n",
       " '19830519',\n",
       " '19830520',\n",
       " '19830521',\n",
       " '19830522',\n",
       " '19830523',\n",
       " '19830524',\n",
       " '19830525',\n",
       " '19830526',\n",
       " '19830527',\n",
       " '19830528',\n",
       " '19830529',\n",
       " '19830530',\n",
       " '19830531',\n",
       " '19830601',\n",
       " '19830602',\n",
       " '19830603',\n",
       " '19830604',\n",
       " '19830605',\n",
       " '19830606',\n",
       " '19830607',\n",
       " '19830608',\n",
       " '19830609',\n",
       " '19830610',\n",
       " '19830611',\n",
       " '19830612',\n",
       " '19830613',\n",
       " '19830614',\n",
       " '19830615',\n",
       " '19830616',\n",
       " '19830617',\n",
       " '19830618',\n",
       " '19830619',\n",
       " '19830620',\n",
       " '19830621',\n",
       " '19830622',\n",
       " '19830623',\n",
       " '19830624',\n",
       " '19830625',\n",
       " '19830626',\n",
       " '19830627',\n",
       " '19830628',\n",
       " '19830629',\n",
       " '19830630',\n",
       " '19830701',\n",
       " '19830702',\n",
       " '19830703',\n",
       " '19830704',\n",
       " '19830705',\n",
       " '19830706',\n",
       " '19830707',\n",
       " '19830708',\n",
       " '19830709',\n",
       " '19830710',\n",
       " '19830711',\n",
       " '19830712',\n",
       " '19830713',\n",
       " '19830714',\n",
       " '19830715',\n",
       " '19830716',\n",
       " '19830717',\n",
       " '19830718',\n",
       " '19830719',\n",
       " '19830720',\n",
       " '19830721',\n",
       " '19830722',\n",
       " '19830723',\n",
       " '19830724',\n",
       " '19830725',\n",
       " '19830726',\n",
       " '19830727',\n",
       " '19830728',\n",
       " '19830729',\n",
       " '19830730',\n",
       " '19830731',\n",
       " '19830801',\n",
       " '19830802',\n",
       " '19830803',\n",
       " '19830804',\n",
       " '19830805',\n",
       " '19830806',\n",
       " '19830807',\n",
       " '19830808',\n",
       " '19830809',\n",
       " '19830810',\n",
       " '19830811',\n",
       " '19830812',\n",
       " '19830813',\n",
       " '19830814',\n",
       " '19830815',\n",
       " '19830816',\n",
       " '19830817',\n",
       " '19830818',\n",
       " '19830819',\n",
       " '19830820',\n",
       " '19830821',\n",
       " '19830822',\n",
       " '19830823',\n",
       " '19830824',\n",
       " '19830825',\n",
       " '19830826',\n",
       " '19830827',\n",
       " '19830828',\n",
       " '19830829',\n",
       " '19830830',\n",
       " '19830831',\n",
       " '19830901',\n",
       " '19830902',\n",
       " '19830903',\n",
       " '19830904',\n",
       " '19830905',\n",
       " '19830906',\n",
       " '19830907',\n",
       " '19830908',\n",
       " '19830909',\n",
       " '19830910',\n",
       " '19830911',\n",
       " '19830912',\n",
       " '19830913',\n",
       " '19830914',\n",
       " '19830915',\n",
       " '19830916',\n",
       " '19830917',\n",
       " '19830918',\n",
       " '19830919',\n",
       " '19830920',\n",
       " '19830921',\n",
       " '19830922',\n",
       " '19830923',\n",
       " '19830924',\n",
       " '19830925',\n",
       " '19830926',\n",
       " '19830927',\n",
       " ...]"
      ]
     },
     "execution_count": 74,
     "metadata": {},
     "output_type": "execute_result"
    }
   ],
   "source": [
    "datesstr"
   ]
  },
  {
   "cell_type": "markdown",
   "metadata": {
    "deletable": true,
    "editable": true
   },
   "source": [
    "### Пример: пишем функцию считывания ascii grd"
   ]
  },
  {
   "cell_type": "code",
   "execution_count": 60,
   "metadata": {
    "collapsed": false,
    "deletable": true,
    "editable": true
   },
   "outputs": [
    {
     "name": "stdout",
     "output_type": "stream",
     "text": [
      "DSAA\r\n",
      "384 \t240\r\n",
      " 35.061  35.859\r\n",
      " 44.672  45.170\r\n",
      "  8.006945e-01   9.021778e+02\r\n"
     ]
    }
   ],
   "source": [
    "!head -5 Feodosiya_sm.grd"
   ]
  },
  {
   "cell_type": "code",
   "execution_count": 61,
   "metadata": {
    "collapsed": false,
    "deletable": true,
    "editable": true
   },
   "outputs": [],
   "source": [
    "def GRD_read(grdpath):\n",
    "    \"\"\"\n",
    "    function reads Golden Software ASCII datafile with name grdname\n",
    "    and returns mesh x,y coordinates and data\n",
    "    \"\"\"\n",
    "    f = open(grdpath,'r')\n",
    "    DSAA = f.readline()\n",
    "    if 'DSAA' not in DSAA:\n",
    "        print (\"Error: Not a right format for GS Surfer ASCII GRD file\")\n",
    "    shape = np.array(f.readline().split(),dtype=np.int16)\n",
    "    print(shape)\n",
    "    lonlim = np.array(f.readline().split(),dtype=np.float64)\n",
    "    latlim = np.array(f.readline().split(),dtype=np.float64)\n",
    "    print(latlim,lonlim)\n",
    "    datlim = np.array(f.readline().split(),dtype=np.float64)\n",
    "   \n",
    "    x = np.linspace(lonlim[0],lonlim[1],shape[0])\n",
    "    y = np.linspace(latlim[0],latlim[1],shape[1])\n",
    "    idata = np.zeros((0,),dtype=np.float32)\n",
    "    while True:\n",
    "        line = f.readline()\n",
    "        if not line:\n",
    "            break\n",
    "        datline = np.array(line.split(),dtype=np.float32)\n",
    "        idata = np.append(idata,datline,axis=0)\n",
    "    f.close()\n",
    "    data = np.reshape(idata,(shape[1],shape[0]))\n",
    "    X,Y = np.meshgrid(x,y)\n",
    "    return data,X,Y\n"
   ]
  },
  {
   "cell_type": "code",
   "execution_count": 62,
   "metadata": {
    "collapsed": false,
    "deletable": true,
    "editable": true
   },
   "outputs": [
    {
     "name": "stdout",
     "output_type": "stream",
     "text": [
      "[384 240]\n",
      "[ 44.672  45.17 ] [ 35.061  35.859]\n"
     ]
    }
   ],
   "source": [
    "data,X,Y = GRD_read('./Feodosiya_sm.grd')"
   ]
  },
  {
   "cell_type": "code",
   "execution_count": 66,
   "metadata": {
    "collapsed": false
   },
   "outputs": [
    {
     "data": {
      "text/plain": [
       "(240, 384)"
      ]
     },
     "execution_count": 66,
     "metadata": {},
     "output_type": "execute_result"
    }
   ],
   "source": [
    "X.shape"
   ]
  },
  {
   "cell_type": "code",
   "execution_count": 63,
   "metadata": {
    "collapsed": false,
    "deletable": true,
    "editable": true
   },
   "outputs": [
    {
     "data": {
      "text/plain": [
       "<matplotlib.colorbar.Colorbar at 0x7ff58e4078d0>"
      ]
     },
     "execution_count": 63,
     "metadata": {},
     "output_type": "execute_result"
    },
    {
     "data": {
      "image/png": "[encoded data removed]",
      "text/plain": [
       "<matplotlib.figure.Figure at 0x7ff58e626978>"
      ]
     },
     "metadata": {},
     "output_type": "display_data"
    }
   ],
   "source": [
    "plt.contourf(X,Y,data,40)\n",
    "plt.colorbar()"
   ]
  },
  {
   "cell_type": "code",
   "execution_count": 68,
   "metadata": {
    "collapsed": false
   },
   "outputs": [],
   "source": [
    "np.savez('bathy.npz',X=X,Y=Y)"
   ]
  },
  {
   "cell_type": "code",
   "execution_count": 71,
   "metadata": {
    "collapsed": true
   },
   "outputs": [],
   "source": [
    "np.savetxt?"
   ]
  },
  {
   "cell_type": "code",
   "execution_count": 70,
   "metadata": {
    "collapsed": false
   },
   "outputs": [
    {
     "name": "stdout",
     "output_type": "stream",
     "text": [
      "total 5,9M\r\n",
      "-rw-rw-r-- 1 mizyuk mizyuk 299K мар 24 14:19 9000126.csv\r\n",
      "-rw-rw-r-- 1 mizyuk mizyuk 671K мар 24 14:19 9000126.xls\r\n",
      "-rw-rw-r-- 1 mizyuk mizyuk 1,5M мар 24 15:37 bathy.npz\r\n",
      "-rw-rw-r-- 1 mizyuk mizyuk 1,4M мар 24 14:19 Feodosiya_sm.grd\r\n",
      "-rw-rw-r-- 1 mizyuk mizyuk 341K мар 24 15:36 Meeting_03.ipynb\r\n",
      "-rw-rw-r-- 1 mizyuk mizyuk   79 мар 24 09:49 README.md\r\n",
      "-rw-rw-r-- 1 mizyuk mizyuk 1,1M мар 24 14:19 river.mat\r\n",
      "-rw-rw-r-- 1 mizyuk mizyuk 857K мар 24 14:19 river_v6.mat\r\n"
     ]
    }
   ],
   "source": [
    "!ls -lh"
   ]
  },
  {
   "cell_type": "code",
   "execution_count": 64,
   "metadata": {
    "collapsed": true,
    "deletable": true,
    "editable": true
   },
   "outputs": [],
   "source": [
    "data = np.ma.masked_greater(data,2500.)"
   ]
  },
  {
   "cell_type": "code",
   "execution_count": 65,
   "metadata": {
    "collapsed": false,
    "deletable": true,
    "editable": true
   },
   "outputs": [
    {
     "data": {
      "text/plain": [
       "<matplotlib.colorbar.Colorbar at 0x7ff58e3480f0>"
      ]
     },
     "execution_count": 65,
     "metadata": {},
     "output_type": "execute_result"
    },
    {
     "data": {
      "image/png": "[encoded data removed]",
      "text/plain": [
       "<matplotlib.figure.Figure at 0x7ff58e3ca390>"
      ]
     },
     "metadata": {},
     "output_type": "display_data"
    }
   ],
   "source": [
    "plt.contourf(X,Y,data,40)\n",
    "plt.colorbar()"
   ]
  },
  {
   "cell_type": "markdown",
   "metadata": {
    "deletable": true,
    "editable": true
   },
   "source": [
    "### scipy.io"
   ]
  },
  {
   "cell_type": "code",
   "execution_count": null,
   "metadata": {
    "collapsed": false,
    "deletable": true,
    "editable": true
   },
   "outputs": [],
   "source": [
    "#%load_ext oct2py.ipython\n",
    "#%%octave -i riv -i datesstr\n",
    "#save(\"river_v6.mat\",\"-V6\",\"riv\",\"datesstr\")\n",
    "#%unload_ext oct2py.ipython"
   ]
  },
  {
   "cell_type": "code",
   "execution_count": 72,
   "metadata": {
    "collapsed": false,
    "deletable": true,
    "editable": true
   },
   "outputs": [
    {
     "name": "stdout",
     "output_type": "stream",
     "text": [
      "9000126.csv  bathy.npz\t       Meeting_03.ipynb  river.mat\r\n",
      "9000126.xls  Feodosiya_sm.grd  README.md\t river_v6.mat\r\n"
     ]
    }
   ],
   "source": [
    "!ls"
   ]
  },
  {
   "cell_type": "code",
   "execution_count": 77,
   "metadata": {
    "collapsed": true,
    "deletable": true,
    "editable": true
   },
   "outputs": [],
   "source": [
    "from scipy.io import loadmat"
   ]
  },
  {
   "cell_type": "code",
   "execution_count": 78,
   "metadata": {
    "collapsed": false,
    "deletable": true,
    "editable": true
   },
   "outputs": [],
   "source": [
    "data = loadmat('river_v6.mat')"
   ]
  },
  {
   "cell_type": "code",
   "execution_count": 79,
   "metadata": {
    "collapsed": true
   },
   "outputs": [],
   "source": [
    "data?"
   ]
  },
  {
   "cell_type": "code",
   "execution_count": 80,
   "metadata": {
    "collapsed": false,
    "deletable": true,
    "editable": true
   },
   "outputs": [
    {
     "data": {
      "text/plain": [
       "array([[ 20.79450035,  23.40880013,  22.45910072, ...,   3.38860011,\n",
       "          3.35489988,   3.32240009]])"
      ]
     },
     "execution_count": 80,
     "metadata": {},
     "output_type": "execute_result"
    }
   ],
   "source": [
    "data['riv']"
   ]
  },
  {
   "cell_type": "code",
   "execution_count": 81,
   "metadata": {
    "collapsed": false
   },
   "outputs": [
    {
     "data": {
      "text/plain": [
       "array([[array(['19810101'], \n",
       "      dtype='<U8'),\n",
       "        array(['19810102'], \n",
       "      dtype='<U8'),\n",
       "        array(['19810103'], \n",
       "      dtype='<U8'), ...,\n",
       "        array(['20101229'], \n",
       "      dtype='<U8'),\n",
       "        array(['20101230'], \n",
       "      dtype='<U8'),\n",
       "        array(['20101231'], \n",
       "      dtype='<U8')]], dtype=object)"
      ]
     },
     "execution_count": 81,
     "metadata": {},
     "output_type": "execute_result"
    }
   ],
   "source": [
    "data['datesstr']"
   ]
  },
  {
   "cell_type": "code",
   "execution_count": 82,
   "metadata": {
    "collapsed": true
   },
   "outputs": [],
   "source": [
    "from scipy.io import savemat"
   ]
  },
  {
   "cell_type": "code",
   "execution_count": 84,
   "metadata": {
    "collapsed": true
   },
   "outputs": [],
   "source": [
    "savemat('test.mat',dict(riv=riv))"
   ]
  },
  {
   "cell_type": "code",
   "execution_count": null,
   "metadata": {
    "collapsed": true
   },
   "outputs": [],
   "source": [
    "%load_ext oct2py.ipython"
   ]
  },
  {
   "cell_type": "code",
   "execution_count": null,
   "metadata": {
    "collapsed": true
   },
   "outputs": [],
   "source": [
    "%%octave -i riv -i datesstr\n",
    "#save(\"river_v6.mat\",\"-V6\",\"riv\",\"datesstr\")\n",
    "#%unload_ext oct2py.ipython"
   ]
  },
  {
   "cell_type": "code",
   "execution_count": 85,
   "metadata": {
    "collapsed": false
   },
   "outputs": [
    {
     "name": "stdout",
     "output_type": "stream",
     "text": [
      "9000126.csv  bathy.npz\t       Meeting_03.ipynb  river.mat     test.mat\r\n",
      "9000126.xls  Feodosiya_sm.grd  README.md\t river_v6.mat\r\n"
     ]
    }
   ],
   "source": [
    "!ls"
   ]
  },
  {
   "cell_type": "code",
   "execution_count": 87,
   "metadata": {
    "collapsed": false
   },
   "outputs": [],
   "source": [
    "import pandas as pd"
   ]
  },
  {
   "cell_type": "code",
   "execution_count": 88,
   "metadata": {
    "collapsed": true
   },
   "outputs": [],
   "source": [
    "data = pd.read_csv('9000126.csv')"
   ]
  },
  {
   "cell_type": "code",
   "execution_count": 92,
   "metadata": {
    "collapsed": false
   },
   "outputs": [
    {
     "data": {
      "image/png": "[encoded data removed]",
      "text/plain": [
       "<matplotlib.figure.Figure at 0x7ff584808ba8>"
      ]
     },
     "metadata": {},
     "output_type": "display_data"
    }
   ],
   "source": [
    "data.plot()\n",
    "plt.grid()\n",
    "plt.savefig('test.png',dpi=300)"
   ]
  },
  {
   "cell_type": "code",
   "execution_count": 93,
   "metadata": {
    "collapsed": true
   },
   "outputs": [],
   "source": [
    "!display test.png"
   ]
  },
  {
   "cell_type": "code",
   "execution_count": 90,
   "metadata": {
    "collapsed": false
   },
   "outputs": [
    {
     "data": {
      "text/html": [
       "<div>\n",
       "<table border=\"1\" class=\"dataframe\">\n",
       "  <thead>\n",
       "    <tr style=\"text-align: right;\">\n",
       "      <th></th>\n",
       "      <th>River discharge (m3/s)</th>\n",
       "    </tr>\n",
       "  </thead>\n",
       "  <tbody>\n",
       "    <tr>\n",
       "      <th>count</th>\n",
       "      <td>10957.000000</td>\n",
       "    </tr>\n",
       "    <tr>\n",
       "      <th>mean</th>\n",
       "      <td>4.951245</td>\n",
       "    </tr>\n",
       "    <tr>\n",
       "      <th>std</th>\n",
       "      <td>4.330793</td>\n",
       "    </tr>\n",
       "    <tr>\n",
       "      <th>min</th>\n",
       "      <td>0.821500</td>\n",
       "    </tr>\n",
       "    <tr>\n",
       "      <th>25%</th>\n",
       "      <td>2.240900</td>\n",
       "    </tr>\n",
       "    <tr>\n",
       "      <th>50%</th>\n",
       "      <td>3.285100</td>\n",
       "    </tr>\n",
       "    <tr>\n",
       "      <th>75%</th>\n",
       "      <td>5.939700</td>\n",
       "    </tr>\n",
       "    <tr>\n",
       "      <th>max</th>\n",
       "      <td>40.162800</td>\n",
       "    </tr>\n",
       "  </tbody>\n",
       "</table>\n",
       "</div>"
      ],
      "text/plain": [
       "       River discharge (m3/s)\n",
       "count            10957.000000\n",
       "mean                 4.951245\n",
       "std                  4.330793\n",
       "min                  0.821500\n",
       "25%                  2.240900\n",
       "50%                  3.285100\n",
       "75%                  5.939700\n",
       "max                 40.162800"
      ]
     },
     "execution_count": 90,
     "metadata": {},
     "output_type": "execute_result"
    }
   ],
   "source": [
    "data.describe()"
   ]
  },
  {
   "cell_type": "code",
   "execution_count": 91,
   "metadata": {
    "collapsed": false
   },
   "outputs": [
    {
     "data": {
      "text/html": [
       "<div>\n",
       "<table border=\"1\" class=\"dataframe\">\n",
       "  <thead>\n",
       "    <tr style=\"text-align: right;\">\n",
       "      <th></th>\n",
       "      <th>Date</th>\n",
       "      <th>River discharge (m3/s)</th>\n",
       "    </tr>\n",
       "  </thead>\n",
       "  <tbody>\n",
       "    <tr>\n",
       "      <th>0</th>\n",
       "      <td>1981-01-01</td>\n",
       "      <td>20.794500</td>\n",
       "    </tr>\n",
       "    <tr>\n",
       "      <th>1</th>\n",
       "      <td>1981-01-02</td>\n",
       "      <td>23.408800</td>\n",
       "    </tr>\n",
       "    <tr>\n",
       "      <th>2</th>\n",
       "      <td>1981-01-03</td>\n",
       "      <td>22.459101</td>\n",
       "    </tr>\n",
       "    <tr>\n",
       "      <th>3</th>\n",
       "      <td>1981-01-04</td>\n",
       "      <td>20.221800</td>\n",
       "    </tr>\n",
       "    <tr>\n",
       "      <th>4</th>\n",
       "      <td>1981-01-05</td>\n",
       "      <td>18.049601</td>\n",
       "    </tr>\n",
       "    <tr>\n",
       "      <th>5</th>\n",
       "      <td>1981-01-06</td>\n",
       "      <td>16.221001</td>\n",
       "    </tr>\n",
       "    <tr>\n",
       "      <th>6</th>\n",
       "      <td>1981-01-07</td>\n",
       "      <td>14.634000</td>\n",
       "    </tr>\n",
       "    <tr>\n",
       "      <th>7</th>\n",
       "      <td>1981-01-08</td>\n",
       "      <td>13.263200</td>\n",
       "    </tr>\n",
       "    <tr>\n",
       "      <th>8</th>\n",
       "      <td>1981-01-09</td>\n",
       "      <td>12.159600</td>\n",
       "    </tr>\n",
       "    <tr>\n",
       "      <th>9</th>\n",
       "      <td>1981-01-10</td>\n",
       "      <td>11.207300</td>\n",
       "    </tr>\n",
       "    <tr>\n",
       "      <th>10</th>\n",
       "      <td>1981-01-11</td>\n",
       "      <td>10.360500</td>\n",
       "    </tr>\n",
       "    <tr>\n",
       "      <th>11</th>\n",
       "      <td>1981-01-12</td>\n",
       "      <td>9.598300</td>\n",
       "    </tr>\n",
       "    <tr>\n",
       "      <th>12</th>\n",
       "      <td>1981-01-13</td>\n",
       "      <td>8.909700</td>\n",
       "    </tr>\n",
       "    <tr>\n",
       "      <th>13</th>\n",
       "      <td>1981-01-14</td>\n",
       "      <td>8.286300</td>\n",
       "    </tr>\n",
       "    <tr>\n",
       "      <th>14</th>\n",
       "      <td>1981-01-15</td>\n",
       "      <td>7.721100</td>\n",
       "    </tr>\n",
       "    <tr>\n",
       "      <th>15</th>\n",
       "      <td>1981-01-16</td>\n",
       "      <td>7.207800</td>\n",
       "    </tr>\n",
       "    <tr>\n",
       "      <th>16</th>\n",
       "      <td>1981-01-17</td>\n",
       "      <td>6.845600</td>\n",
       "    </tr>\n",
       "    <tr>\n",
       "      <th>17</th>\n",
       "      <td>1981-01-18</td>\n",
       "      <td>6.561100</td>\n",
       "    </tr>\n",
       "    <tr>\n",
       "      <th>18</th>\n",
       "      <td>1981-01-19</td>\n",
       "      <td>6.312800</td>\n",
       "    </tr>\n",
       "    <tr>\n",
       "      <th>19</th>\n",
       "      <td>1981-01-20</td>\n",
       "      <td>6.091100</td>\n",
       "    </tr>\n",
       "    <tr>\n",
       "      <th>20</th>\n",
       "      <td>1981-01-21</td>\n",
       "      <td>5.884100</td>\n",
       "    </tr>\n",
       "    <tr>\n",
       "      <th>21</th>\n",
       "      <td>1981-01-22</td>\n",
       "      <td>5.688400</td>\n",
       "    </tr>\n",
       "    <tr>\n",
       "      <th>22</th>\n",
       "      <td>1981-01-23</td>\n",
       "      <td>5.503000</td>\n",
       "    </tr>\n",
       "    <tr>\n",
       "      <th>23</th>\n",
       "      <td>1981-01-24</td>\n",
       "      <td>5.327200</td>\n",
       "    </tr>\n",
       "    <tr>\n",
       "      <th>24</th>\n",
       "      <td>1981-01-25</td>\n",
       "      <td>5.155300</td>\n",
       "    </tr>\n",
       "    <tr>\n",
       "      <th>25</th>\n",
       "      <td>1981-01-26</td>\n",
       "      <td>6.146400</td>\n",
       "    </tr>\n",
       "    <tr>\n",
       "      <th>26</th>\n",
       "      <td>1981-01-27</td>\n",
       "      <td>5.933500</td>\n",
       "    </tr>\n",
       "    <tr>\n",
       "      <th>27</th>\n",
       "      <td>1981-01-28</td>\n",
       "      <td>5.619600</td>\n",
       "    </tr>\n",
       "    <tr>\n",
       "      <th>28</th>\n",
       "      <td>1981-01-29</td>\n",
       "      <td>5.402900</td>\n",
       "    </tr>\n",
       "    <tr>\n",
       "      <th>29</th>\n",
       "      <td>1981-01-30</td>\n",
       "      <td>5.856700</td>\n",
       "    </tr>\n",
       "    <tr>\n",
       "      <th>...</th>\n",
       "      <td>...</td>\n",
       "      <td>...</td>\n",
       "    </tr>\n",
       "    <tr>\n",
       "      <th>10927</th>\n",
       "      <td>2010-12-02</td>\n",
       "      <td>6.667500</td>\n",
       "    </tr>\n",
       "    <tr>\n",
       "      <th>10928</th>\n",
       "      <td>2010-12-03</td>\n",
       "      <td>6.221400</td>\n",
       "    </tr>\n",
       "    <tr>\n",
       "      <th>10929</th>\n",
       "      <td>2010-12-04</td>\n",
       "      <td>5.817000</td>\n",
       "    </tr>\n",
       "    <tr>\n",
       "      <th>10930</th>\n",
       "      <td>2010-12-05</td>\n",
       "      <td>5.449600</td>\n",
       "    </tr>\n",
       "    <tr>\n",
       "      <th>10931</th>\n",
       "      <td>2010-12-06</td>\n",
       "      <td>5.109700</td>\n",
       "    </tr>\n",
       "    <tr>\n",
       "      <th>10932</th>\n",
       "      <td>2010-12-07</td>\n",
       "      <td>5.393900</td>\n",
       "    </tr>\n",
       "    <tr>\n",
       "      <th>10933</th>\n",
       "      <td>2010-12-08</td>\n",
       "      <td>5.214700</td>\n",
       "    </tr>\n",
       "    <tr>\n",
       "      <th>10934</th>\n",
       "      <td>2010-12-09</td>\n",
       "      <td>4.933600</td>\n",
       "    </tr>\n",
       "    <tr>\n",
       "      <th>10935</th>\n",
       "      <td>2010-12-10</td>\n",
       "      <td>4.659900</td>\n",
       "    </tr>\n",
       "    <tr>\n",
       "      <th>10936</th>\n",
       "      <td>2010-12-11</td>\n",
       "      <td>4.427800</td>\n",
       "    </tr>\n",
       "    <tr>\n",
       "      <th>10937</th>\n",
       "      <td>2010-12-12</td>\n",
       "      <td>4.275600</td>\n",
       "    </tr>\n",
       "    <tr>\n",
       "      <th>10938</th>\n",
       "      <td>2010-12-13</td>\n",
       "      <td>4.148200</td>\n",
       "    </tr>\n",
       "    <tr>\n",
       "      <th>10939</th>\n",
       "      <td>2010-12-14</td>\n",
       "      <td>4.030200</td>\n",
       "    </tr>\n",
       "    <tr>\n",
       "      <th>10940</th>\n",
       "      <td>2010-12-15</td>\n",
       "      <td>3.918800</td>\n",
       "    </tr>\n",
       "    <tr>\n",
       "      <th>10941</th>\n",
       "      <td>2010-12-16</td>\n",
       "      <td>3.813200</td>\n",
       "    </tr>\n",
       "    <tr>\n",
       "      <th>10942</th>\n",
       "      <td>2010-12-17</td>\n",
       "      <td>3.713100</td>\n",
       "    </tr>\n",
       "    <tr>\n",
       "      <th>10943</th>\n",
       "      <td>2010-12-18</td>\n",
       "      <td>3.618100</td>\n",
       "    </tr>\n",
       "    <tr>\n",
       "      <th>10944</th>\n",
       "      <td>2010-12-19</td>\n",
       "      <td>3.528000</td>\n",
       "    </tr>\n",
       "    <tr>\n",
       "      <th>10945</th>\n",
       "      <td>2010-12-20</td>\n",
       "      <td>3.449100</td>\n",
       "    </tr>\n",
       "    <tr>\n",
       "      <th>10946</th>\n",
       "      <td>2010-12-21</td>\n",
       "      <td>3.406900</td>\n",
       "    </tr>\n",
       "    <tr>\n",
       "      <th>10947</th>\n",
       "      <td>2010-12-22</td>\n",
       "      <td>3.374400</td>\n",
       "    </tr>\n",
       "    <tr>\n",
       "      <th>10948</th>\n",
       "      <td>2010-12-23</td>\n",
       "      <td>3.344100</td>\n",
       "    </tr>\n",
       "    <tr>\n",
       "      <th>10949</th>\n",
       "      <td>2010-12-24</td>\n",
       "      <td>3.314400</td>\n",
       "    </tr>\n",
       "    <tr>\n",
       "      <th>10950</th>\n",
       "      <td>2010-12-25</td>\n",
       "      <td>3.565100</td>\n",
       "    </tr>\n",
       "    <tr>\n",
       "      <th>10951</th>\n",
       "      <td>2010-12-26</td>\n",
       "      <td>3.546000</td>\n",
       "    </tr>\n",
       "    <tr>\n",
       "      <th>10952</th>\n",
       "      <td>2010-12-27</td>\n",
       "      <td>3.470700</td>\n",
       "    </tr>\n",
       "    <tr>\n",
       "      <th>10953</th>\n",
       "      <td>2010-12-28</td>\n",
       "      <td>3.424900</td>\n",
       "    </tr>\n",
       "    <tr>\n",
       "      <th>10954</th>\n",
       "      <td>2010-12-29</td>\n",
       "      <td>3.388600</td>\n",
       "    </tr>\n",
       "    <tr>\n",
       "      <th>10955</th>\n",
       "      <td>2010-12-30</td>\n",
       "      <td>3.354900</td>\n",
       "    </tr>\n",
       "    <tr>\n",
       "      <th>10956</th>\n",
       "      <td>2010-12-31</td>\n",
       "      <td>3.322400</td>\n",
       "    </tr>\n",
       "  </tbody>\n",
       "</table>\n",
       "<p>10957 rows × 2 columns</p>\n",
       "</div>"
      ],
      "text/plain": [
       "             Date  River discharge (m3/s)\n",
       "0      1981-01-01               20.794500\n",
       "1      1981-01-02               23.408800\n",
       "2      1981-01-03               22.459101\n",
       "3      1981-01-04               20.221800\n",
       "4      1981-01-05               18.049601\n",
       "5      1981-01-06               16.221001\n",
       "6      1981-01-07               14.634000\n",
       "7      1981-01-08               13.263200\n",
       "8      1981-01-09               12.159600\n",
       "9      1981-01-10               11.207300\n",
       "10     1981-01-11               10.360500\n",
       "11     1981-01-12                9.598300\n",
       "12     1981-01-13                8.909700\n",
       "13     1981-01-14                8.286300\n",
       "14     1981-01-15                7.721100\n",
       "15     1981-01-16                7.207800\n",
       "16     1981-01-17                6.845600\n",
       "17     1981-01-18                6.561100\n",
       "18     1981-01-19                6.312800\n",
       "19     1981-01-20                6.091100\n",
       "20     1981-01-21                5.884100\n",
       "21     1981-01-22                5.688400\n",
       "22     1981-01-23                5.503000\n",
       "23     1981-01-24                5.327200\n",
       "24     1981-01-25                5.155300\n",
       "25     1981-01-26                6.146400\n",
       "26     1981-01-27                5.933500\n",
       "27     1981-01-28                5.619600\n",
       "28     1981-01-29                5.402900\n",
       "29     1981-01-30                5.856700\n",
       "...           ...                     ...\n",
       "10927  2010-12-02                6.667500\n",
       "10928  2010-12-03                6.221400\n",
       "10929  2010-12-04                5.817000\n",
       "10930  2010-12-05                5.449600\n",
       "10931  2010-12-06                5.109700\n",
       "10932  2010-12-07                5.393900\n",
       "10933  2010-12-08                5.214700\n",
       "10934  2010-12-09                4.933600\n",
       "10935  2010-12-10                4.659900\n",
       "10936  2010-12-11                4.427800\n",
       "10937  2010-12-12                4.275600\n",
       "10938  2010-12-13                4.148200\n",
       "10939  2010-12-14                4.030200\n",
       "10940  2010-12-15                3.918800\n",
       "10941  2010-12-16                3.813200\n",
       "10942  2010-12-17                3.713100\n",
       "10943  2010-12-18                3.618100\n",
       "10944  2010-12-19                3.528000\n",
       "10945  2010-12-20                3.449100\n",
       "10946  2010-12-21                3.406900\n",
       "10947  2010-12-22                3.374400\n",
       "10948  2010-12-23                3.344100\n",
       "10949  2010-12-24                3.314400\n",
       "10950  2010-12-25                3.565100\n",
       "10951  2010-12-26                3.546000\n",
       "10952  2010-12-27                3.470700\n",
       "10953  2010-12-28                3.424900\n",
       "10954  2010-12-29                3.388600\n",
       "10955  2010-12-30                3.354900\n",
       "10956  2010-12-31                3.322400\n",
       "\n",
       "[10957 rows x 2 columns]"
      ]
     },
     "execution_count": 91,
     "metadata": {},
     "output_type": "execute_result"
    }
   ],
   "source": [
    "data"
   ]
  },
  {
   "cell_type": "code",
   "execution_count": null,
   "metadata": {
    "collapsed": true
   },
   "outputs": [],
   "source": []
  }
 ],
 "metadata": {
  "kernelspec": {
   "display_name": "Python 3",
   "language": "python",
   "name": "python3"
  },
  "language_info": {
   "codemirror_mode": {
    "name": "ipython",
    "version": 3
   },
   "file_extension": ".py",
   "mimetype": "text/x-python",
   "name": "python",
   "nbconvert_exporter": "python",
   "pygments_lexer": "ipython3",
   "version": "3.5.3"
  }
 },
 "nbformat": 4,
 "nbformat_minor": 2
}
